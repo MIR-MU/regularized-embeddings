{
 "cells": [
  {
   "cell_type": "code",
   "execution_count": 1,
   "metadata": {},
   "outputs": [],
   "source": [
    "import logging\n",
    "\n",
    "logging.basicConfig(format='%(asctime)s : %(levelname)s : %(message)s', level=logging.INFO)"
   ]
  },
  {
   "cell_type": "markdown",
   "metadata": {},
   "source": [
    "# Regularized Word Embeddings in Text Classification and in Ad-hoc IR\n",
    "## 4. Document Representations\n",
    "\n",
    "We consider three document representations:\n",
    "\n",
    "- Vector Space Model (VSM)\n",
    "- Soft Vector Space Model (Soft VSM)\n",
    "- Latent Semantic Indexing (LSI)\n",
    "\n",
    "We consider four term weighting schemes:\n",
    "\n",
    "- Binary\n",
    "- Bag of Words (BOW)\n",
    "- TF-IDF\n",
    "- Okapi BM25\n",
    "\n",
    "And we consider two similarities:\n",
    "\n",
    "- Inner Product (IP)\n",
    "- Word Mover's Distance (WMD)\n",
    "\n",
    "## 6. Evaluation\n",
    "\n",
    "Not all combinations of document representations, term weighting schemes, and similarities are evaluated:\n",
    "\n",
    "| ↓ Weights, Space and similarity → | VSM IP | VSM WMD | Soft VSM IP | LSI IP |\n",
    "|--|--|--|--|--|\n",
    "| Binary | ❌ | ❌ | ✅<sup>2</sup>  | ❌ |\n",
    "| BOW | ✅ | ✅ | ✅<sup>1, 2</sup> | ❌ |\n",
    "| TF-IDF | ✅ | ❌ | ✅ | ✅ |\n",
    "| Okapi BM25 | ✅ | ❌ | ❌ | ❌ |\n",
    "\n",
    "<sup>1</sup> We use non-normalized BOW queries, $L_1$-normalized BOW collection documents, and the non-normalized inner product.  \n",
    "<sup>2</sup> We only use the dense soft VSM. "
   ]
  },
  {
   "cell_type": "code",
   "execution_count": 2,
   "metadata": {},
   "outputs": [],
   "source": [
    "configurations = [\n",
    "    ('vsm', 'bow', 'inner_product', 32),\n",
    "    ('vsm', 'tfidf', 'inner_product', 32),\n",
    "    ('vsm', 'bm25', 'inner_product', 32),\n",
    "    ('lsi', 'tfidf', 'inner_product', 32),\n",
    "#    ('dense_soft_vsm', 'tfidf', 'inner_product', 32),\n",
    "#    ('dense_soft_vsm', 'tfidf', 'inner_product', 1),\n",
    "#    ('dense_soft_vsm', 'bow', 'inner_product', 1),\n",
    "#    ('dense_soft_vsm', 'bow', 'inner_product', 32),\n",
    "#    ('dense_soft_vsm', 'binary', 'inner_product', 32),\n",
    "#    ('dense_soft_vsm', 'binary', 'inner_product', 1),\n",
    "#    ('sparse_soft_vsm', 'tfidf', 'inner_product', 32),\n",
    "#    ('sparse_soft_vsm', 'tfidf', 'inner_product', 1),\n",
    "#    ('vsm', 'bow', 'wmd', 32),\n",
    "#    ('vsm', 'bow', 'wmd', 1),\n",
    "]\n",
    "configuration_names = {\n",
    "    ('vsm', 'bow', 'inner_product', 32): 'BOW',\n",
    "    ('vsm', 'tfidf', 'inner_product', 32): 'TF-IDF',\n",
    "    ('vsm', 'bm25', 'inner_product', 32): 'Okapi BM25',\n",
    "    ('lsi', 'tfidf', 'inner_product', 32): 'LSI',\n",
    "    ('dense_soft_vsm', 'tfidf', 'inner_product', 32): 'Dense SCM (32b)',\n",
    "    ('dense_soft_vsm', 'tfidf', 'inner_product', 1): 'Dense SCM (1b)',\n",
    "    ('dense_soft_vsm', 'bow', 'inner_product', 32): 'NTLM (32b)',\n",
    "    ('dense_soft_vsm', 'bow', 'inner_product', 1): 'NTML (1b)',\n",
    "    ('dense_soft_vsm', 'binary', 'inner_product', 32): 'NQE (32b)',\n",
    "    ('dense_soft_vsm', 'binary', 'inner_product', 1): 'NQE (1b)',\n",
    "    ('sparse_soft_vsm', 'tfidf', 'inner_product', 32): 'Sparse SCM (32b)',\n",
    "    ('sparse_soft_vsm', 'tfidf', 'inner_product', 1): 'Sparse SCM (1b)',\n",
    "    ('vsm', 'bow', 'wmd', 32): 'WMD (32b)',\n",
    "    ('vsm', 'bow', 'wmd', 1): 'WMD (1b)',\n",
    "}"
   ]
  },
  {
   "cell_type": "markdown",
   "metadata": {},
   "source": [
    "There are several parameters that are tuned by grid search.\n",
    "\n",
    "- Soft VSM (sparse):\n",
    "    - `symmetric`${}\\in\\{$ `True`, `False` $\\}$\n",
    "    - `positive_definite`${}\\in\\{$ `True`, `False` $\\}$\n",
    "    - `tfidf`${}\\in\\{$ `<TfidfModel>`, `None` $\\}$\n",
    "    - `nonzero_limit`${}\\in\\{100, 200, \\ldots, 600\\}$\n",
    "- TFIDF:\n",
    "    - `slope`${}\\in\\{0.0, 0.1, \\ldots, 1.0\\}$\n",
    "- Okapi BM25:\n",
    "    - $k_1\\in\\{1.2, 1.3, \\ldots, 2.0\\}$"
   ]
  },
  {
   "cell_type": "markdown",
   "metadata": {},
   "source": [
    "   \n",
    "### 6.1 Datasets\n"
   ]
  },
  {
   "cell_type": "code",
   "execution_count": 3,
   "metadata": {},
   "outputs": [
    {
     "name": "stderr",
     "output_type": "stream",
     "text": [
      "2019-02-01 05:55:00,548 : INFO : 'pattern' package not found; tag filters are not available for English\n"
     ]
    }
   ],
   "source": [
    "from common import ClassificationResult\n",
    "\n",
    "dataset_names = []\n",
    "results = dict()\n",
    "\n",
    "\n",
    "def load_results(name, dataset_loader):\n",
    "    \"\"\"Loads classification results for a given dataset.\n",
    "    \n",
    "    Parameters\n",
    "    ----------\n",
    "    name : str\n",
    "        The name of a dataset.\n",
    "    dataset_loader : callable\n",
    "        Loads training, validation, and test sets from the dataset.\n",
    "    \"\"\"\n",
    "\n",
    "    dataset_names.append(name)\n",
    "    results[name] = dict()\n",
    "    datasets = None\n",
    "    for configuration in configurations:\n",
    "        basename = '{}-{}'.format(name, '-'.join(map(str, configuration)))\n",
    "        try:\n",
    "            results[name][configuration] = ClassificationResult.from_file(basename)\n",
    "        except IOError:\n",
    "            if datasets is None:\n",
    "                datasets = dataset_loader()\n",
    "            train, validation, test = datasets\n",
    "            result = train.classify(validation, test, *configuration)\n",
    "            result.to_file(basename)\n",
    "            results[name][configuration] = result"
   ]
  },
  {
   "cell_type": "markdown",
   "metadata": {},
   "source": [
    "\n",
    "For classification, we use the following datasets:\n",
    "\n",
    "- [20 Newsgroups][] (1995, 14M, 18.83k documents, *free*)\n",
    "\n",
    " [20 Newsgroups]: http://qwone.com/~jason/20Newsgroups/ (Home Page for 20 Newsgroups Data Set)"
   ]
  },
  {
   "cell_type": "code",
   "execution_count": 4,
   "metadata": {},
   "outputs": [
    {
     "name": "stderr",
     "output_type": "stream",
     "text": [
      "2019-02-01 05:55:00,860 : INFO : Loading a classification result from file results/classification-newsgroups-vsm-bow-inner_product-32.pkl.xz.\n",
      "2019-02-01 05:55:00,865 : INFO : Loading a classification result from file results/classification-newsgroups-vsm-tfidf-inner_product-32.pkl.xz.\n",
      "2019-02-01 05:55:00,868 : INFO : Loading a classification result from file results/classification-newsgroups-vsm-bm25-inner_product-32.pkl.xz.\n",
      "2019-02-01 05:55:00,876 : INFO : Loading a classification result from file results/classification-newsgroups-lsi-tfidf-inner_product-32.pkl.xz.\n"
     ]
    }
   ],
   "source": [
    "from common import load_newsgroups\n",
    "\n",
    "load_results('newsgroups', load_newsgroups)"
   ]
  },
  {
   "cell_type": "markdown",
   "metadata": {},
   "source": [
    "\n",
    "- [AMAZON][] (2015, 20G, 142.8m documents, *free*)\n",
    "    - For computational efficiency, we subsample the dataset using four of the 24 product categories.\n",
    "    - For computational efficiency, we subsample the dataset using only 1 out of every 100 review texts.\n",
    "\n",
    " [AMAZON]: http://jmcauley.ucsd.edu/data/amazon/ (Amazon review data)\n"
   ]
  },
  {
   "cell_type": "code",
   "execution_count": 5,
   "metadata": {},
   "outputs": [
    {
     "name": "stderr",
     "output_type": "stream",
     "text": [
      "2019-02-01 05:55:00,942 : INFO : Loading a classification result from file results/classification-amazon-vsm-bow-inner_product-32.pkl.xz.\n",
      "2019-02-01 05:55:00,944 : INFO : Loading a classification result from file results/classification-amazon-vsm-tfidf-inner_product-32.pkl.xz.\n",
      "2019-02-01 05:55:00,945 : INFO : Loading a classification result from file results/classification-amazon-vsm-bm25-inner_product-32.pkl.xz.\n",
      "2019-02-01 05:55:00,947 : INFO : Loading a classification result from file results/classification-amazon-lsi-tfidf-inner_product-32.pkl.xz.\n"
     ]
    }
   ],
   "source": [
    "from common import load_amazon\n",
    "\n",
    "load_results('amazon', load_amazon)  # Not yet computed."
   ]
  },
  {
   "cell_type": "markdown",
   "metadata": {},
   "source": [
    "\n",
    "- [BBC] (2005, 864K, 2.23k documents, *free*)\n",
    "\n",
    " [BBC]: http://mlg.ucd.ie/datasets/bbc.html (Insight - BBC Datasets)"
   ]
  },
  {
   "cell_type": "code",
   "execution_count": 6,
   "metadata": {},
   "outputs": [
    {
     "name": "stderr",
     "output_type": "stream",
     "text": [
      "2019-02-01 05:55:01,010 : INFO : Loading a classification result from file results/classification-bbc-vsm-bow-inner_product-32.pkl.xz.\n",
      "2019-02-01 05:55:01,013 : INFO : Loading a classification result from file results/classification-bbc-vsm-tfidf-inner_product-32.pkl.xz.\n",
      "2019-02-01 05:55:01,016 : INFO : Loading a classification result from file results/classification-bbc-vsm-bm25-inner_product-32.pkl.xz.\n",
      "2019-02-01 05:55:01,018 : INFO : Loading a classification result from file results/classification-bbc-lsi-tfidf-inner_product-32.pkl.xz.\n"
     ]
    }
   ],
   "source": [
    "from common import load_bbc\n",
    "\n",
    "load_results('bbc', load_bbc)  # Not yet computed."
   ]
  },
  {
   "cell_type": "markdown",
   "metadata": {},
   "source": [
    "\n",
    "- [BBCSport][BBC] (2005, 255K, 737 documents, *free*)\n",
    "\n",
    " [BBC]: http://mlg.ucd.ie/datasets/bbc.html (Insight - BBC Datasets)"
   ]
  },
  {
   "cell_type": "code",
   "execution_count": 7,
   "metadata": {},
   "outputs": [
    {
     "name": "stderr",
     "output_type": "stream",
     "text": [
      "2019-02-01 05:55:01,089 : INFO : Loading a classification result from file results/classification-bbcsport-vsm-bow-inner_product-32.pkl.xz.\n",
      "2019-02-01 05:55:01,091 : INFO : Loading a classification result from file results/classification-bbcsport-vsm-tfidf-inner_product-32.pkl.xz.\n",
      "2019-02-01 05:55:01,092 : INFO : Loading a classification result from file results/classification-bbcsport-vsm-bm25-inner_product-32.pkl.xz.\n",
      "2019-02-01 05:55:01,094 : INFO : Loading a classification result from file results/classification-bbcsport-lsi-tfidf-inner_product-32.pkl.xz.\n"
     ]
    }
   ],
   "source": [
    "from common import load_bbcsport\n",
    "\n",
    "load_results('bbcsport', load_bbcsport)  # Not yet computed."
   ]
  },
  {
   "cell_type": "markdown",
   "metadata": {},
   "source": [
    "\n",
    "- [OHSUMED][] (1994, 24M, 50.22k documents, *free*)\n",
    "\n",
    " [OHSUMED]: http://disi.unitn.it/moschitti/corpora.htm (Donwloadable Corpora)\n"
   ]
  },
  {
   "cell_type": "code",
   "execution_count": 8,
   "metadata": {},
   "outputs": [
    {
     "name": "stderr",
     "output_type": "stream",
     "text": [
      "2019-02-01 05:55:01,138 : INFO : Loading a classification result from file results/classification-ohsumed-vsm-bow-inner_product-32.pkl.xz.\n",
      "2019-02-01 05:55:01,139 : INFO : Loading a classification result from file results/classification-ohsumed-vsm-tfidf-inner_product-32.pkl.xz.\n",
      "2019-02-01 05:55:01,140 : INFO : Loading a classification result from file results/classification-ohsumed-vsm-bm25-inner_product-32.pkl.xz.\n",
      "2019-02-01 05:55:01,142 : INFO : Loading a classification result from file results/classification-ohsumed-lsi-tfidf-inner_product-32.pkl.xz.\n"
     ]
    }
   ],
   "source": [
    "from common import load_ohsumed\n",
    "\n",
    "load_results('ohsumed', load_ohsumed)  # Not yet computed."
   ]
  },
  {
   "cell_type": "markdown",
   "metadata": {},
   "source": [
    "\n",
    "- [Reuters-21578][] (1987, 8.2M, 215.78k documents, *free*)\n",
    "\n",
    " [Reuters-21578]: http://www.daviddlewis.com/resources/testcollections/reuters21578/ (Reuters-21578 Text Categorization Test Collection)"
   ]
  },
  {
   "cell_type": "code",
   "execution_count": 9,
   "metadata": {},
   "outputs": [
    {
     "name": "stderr",
     "output_type": "stream",
     "text": [
      "2019-02-01 05:55:01,203 : INFO : Loading a classification result from file results/classification-reuters-vsm-bow-inner_product-32.pkl.xz.\n",
      "2019-02-01 05:55:01,208 : INFO : Loading a classification result from file results/classification-reuters-vsm-tfidf-inner_product-32.pkl.xz.\n",
      "2019-02-01 05:55:01,213 : INFO : Loading a classification result from file results/classification-reuters-vsm-bm25-inner_product-32.pkl.xz.\n",
      "2019-02-01 05:55:01,218 : INFO : Loading a classification result from file results/classification-reuters-lsi-tfidf-inner_product-32.pkl.xz.\n"
     ]
    }
   ],
   "source": [
    "from common import load_reuters\n",
    "\n",
    "load_results('reuters', load_reuters)  # Not yet computed."
   ]
  },
  {
   "cell_type": "markdown",
   "metadata": {},
   "source": [
    "- [TWITTER][] (2011, 160K, 6.4k documents, *free*)\n",
    "\n",
    " [TWITTER]: https://web.archive.org/web/20180328044709/www.sananalytics.com/lab/twitter-sentiment/ (Sanders Analytics - Twitter Sentiment Corpus)"
   ]
  },
  {
   "cell_type": "code",
   "execution_count": 10,
   "metadata": {},
   "outputs": [
    {
     "name": "stderr",
     "output_type": "stream",
     "text": [
      "2019-02-01 05:55:01,278 : INFO : Loading a classification result from file results/classification-twitter-vsm-bow-inner_product-32.pkl.xz.\n",
      "2019-02-01 05:55:01,280 : INFO : Loading a classification result from file results/classification-twitter-vsm-tfidf-inner_product-32.pkl.xz.\n",
      "2019-02-01 05:55:01,282 : INFO : Loading a classification result from file results/classification-twitter-vsm-bm25-inner_product-32.pkl.xz.\n",
      "2019-02-01 05:55:01,283 : INFO : Loading a classification result from file results/classification-twitter-lsi-tfidf-inner_product-32.pkl.xz.\n"
     ]
    }
   ],
   "source": [
    "from common import load_twitter\n",
    "\n",
    "load_results('twitter', load_twitter)  # Not yet computed."
   ]
  },
  {
   "cell_type": "markdown",
   "metadata": {},
   "source": [
    "\n",
    "### 6.3 Classification\n",
    "\n",
    "We compare the individual document representations, term weighing schemes, and similarities using $k$NN on standard datasets. In addition to the above parameters, we also tune $k\\in\\{1,2,\\ldots,19\\}$.\n",
    "\n",
    "## 7. Results\n",
    " \n",
    "Useful links:\n",
    "\n",
    "- [Monochrome (Black & white) plots in matplotlib](http://olsgaard.dk/monochrome-black-white-plots-in-matplotlib.html)\n",
    "- [Add confidence interval on barplot](https://python-graph-gallery.com/8-add-confidence-interval-on-barplot/)"
   ]
  },
  {
   "cell_type": "code",
   "execution_count": 11,
   "metadata": {},
   "outputs": [
    {
     "data": {
      "image/png": "[encoded data removed]",
      "text/plain": [
       "<Figure size 504x288 with 1 Axes>"
      ]
     },
     "metadata": {
      "needs_background": "light"
     },
     "output_type": "display_data"
    }
   ],
   "source": [
    "%matplotlib inline\n",
    "\n",
    "from itertools import cycle\n",
    "\n",
    "import numpy as np\n",
    "import matplotlib.pyplot as plt\n",
    "from matplotlib import rcParams\n",
    "\n",
    "num_bars = len(configurations)\n",
    "bar_width = 1.0 / (num_bars + 1)\n",
    "bar_ys, bar_yerrs_lower, bar_yerrs_upper = list(zip(*map(lambda x: zip(*x), (\n",
    "    (\n",
    "        (\n",
    "            results[name][configuration].accuracy()[0],\n",
    "            results[name][configuration].accuracy()[0] - results[name][configuration].accuracy()[1],\n",
    "            results[name][configuration].accuracy()[2] - results[name][configuration].accuracy()[0],\n",
    "        )\n",
    "        for name in dataset_names\n",
    "    )\n",
    "    for configuration in configurations\n",
    "))))\n",
    "bar_xs = [\n",
    "    np.arange(len(dataset_names)) + bar_width * (bar_number - 0.5 * (num_bars - 1))\n",
    "    for bar_number in range(num_bars)\n",
    "]\n",
    "hatches = ('///', '--', '...', 'xxx', '\\///', '\\\\\\\\', '*', 'o')\n",
    "\n",
    "rcParams['font.size'] = 9\n",
    "rcParams['font.family'] = 'serif'\n",
    "rcParams['font.serif'] = ['Times New Roman', 'TeX Gyre Termes']\n",
    "\n",
    "plt.figure(figsize=(7, 4))\n",
    "for x, y, yerr_lower, yerr_upper, label, hatch in zip(\n",
    "            bar_xs,\n",
    "            bar_ys,\n",
    "            bar_yerrs_lower,\n",
    "            bar_yerrs_upper,\n",
    "            map(lambda x: configuration_names[x], configurations),\n",
    "            cycle(hatches),\n",
    "        ):\n",
    "    yerr = (yerr_lower, yerr_upper)\n",
    "    plt.bar(x, y, width=bar_width, edgecolor='black', color='w', hatch=hatch, yerr=yerr, capsize=3, label=label)\n",
    "plt.xticks(bar_xs[num_bars // 2] - 0.5 * bar_width, dataset_names)\n",
    "plt.minorticks_on()\n",
    "plt.ylabel('accuracy')\n",
    "plt.ylim((0.0, 1.0))\n",
    "plt.legend(loc='upper right', ncol=2)\n",
    "plt.grid(axis='y', which='major', color='k', alpha=0.2)\n",
    "plt.grid(axis='y', which='minor', color='k', alpha=0.05)\n",
    "plt.tight_layout()\n",
    "plt.savefig('classification.pdf')\n",
    "plt.show()"
   ]
  }
 ],
 "metadata": {
  "kernelspec": {
   "display_name": "Python 3",
   "language": "python",
   "name": "python3"
  },
  "language_info": {
   "codemirror_mode": {
    "name": "ipython",
    "version": 3
   },
   "file_extension": ".py",
   "mimetype": "text/x-python",
   "name": "python",
   "nbconvert_exporter": "python",
   "pygments_lexer": "ipython3",
   "version": "3.5.3"
  }
 },
 "nbformat": 4,
 "nbformat_minor": 2
}
