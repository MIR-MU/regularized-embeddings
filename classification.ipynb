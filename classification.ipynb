{
 "cells": [
  {
   "cell_type": "code",
   "execution_count": 1,
   "metadata": {},
   "outputs": [],
   "source": [
    "import logging\n",
    "\n",
    "logging.basicConfig(format='%(asctime)s : %(levelname)s : %(message)s', level=logging.INFO)"
   ]
  },
  {
   "cell_type": "markdown",
   "metadata": {},
   "source": [
    "# Regularized Word Embeddings in Text Classification and in Ad-hoc IR\n",
    "## 4. Document Representations\n",
    "\n",
    "We consider three document representations:\n",
    "\n",
    "- Vector Space Model (VSM)\n",
    "- Soft Vector Space Model (Soft VSM)\n",
    "- Latent Semantic Indexing (LSI)\n",
    "\n",
    "We consider four term weighting schemes:\n",
    "\n",
    "- Binary\n",
    "- Bag of Words (BOW)\n",
    "- TF-IDF\n",
    "- Okapi BM25\n",
    "\n",
    "An we also consider three similarities:\n",
    "\n",
    "- Inner Product (IP)\n",
    "- Word Mover's Distance (WMD)\n",
    "- Neural Translation Language Model (NTLM)\n",
    "\n",
    "## 6. Evaluation\n",
    "\n",
    "Not all combinations of document representations, term weighting schemes, and similarities are evaluated:\n",
    "\n",
    "| ↓ Weights, Space and similarity → | VSM IP | VSM WMD | VSM NTLM | Soft VSM IP | LSI IP |\n",
    "|--|--|--|--|--|--|\n",
    "| Binary | ❌ | ❌ | ❌ | ✅<sup>2, 3</sup>  | ❌ |\n",
    "| BOW | ✅ | ✅<sup>3</sup> | ✅<sup>1, 3</sup> | ❌ | ❌ |\n",
    "| TF-IDF | ✅ | ❌ | ❌ | ✅<sup>3</sup> | ✅ |\n",
    "| Okapi BM25 | ✅ | ❌ | ❌ | ❌ | ❌ |\n",
    "\n",
    "<sup>1</sup> We use the non-normalized BOW.  \n",
    "<sup>2</sup> We use the dense soft VSM.  \n",
    "<sup>3</sup> Not yet implemented."
   ]
  },
  {
   "cell_type": "code",
   "execution_count": 2,
   "metadata": {},
   "outputs": [],
   "source": [
    "configurations = [\n",
    "    ('vsm', 'bow', 'inner_product', 32),\n",
    "    ('vsm', 'tfidf', 'inner_product', 32),\n",
    "    ('vsm', 'bm25', 'inner_product', 32),\n",
    "    ('lsi', 'tfidf', 'inner_product', 32),\n",
    "]"
   ]
  },
  {
   "cell_type": "markdown",
   "metadata": {},
   "source": [
    "There are several parameters that are tuned by grid search.\n",
    "\n",
    "- Soft VSM:\n",
    "    - `dense`${}\\in\\{$ `True`, `False` $\\}$\n",
    "    - `symmetric`${}\\in\\{$ `True`, `False` $\\}$ (only relevant when `dense` is `False`)\n",
    "    - `positive_definite`${}\\in\\{$ `True`, `False` $\\}$ (only relevant when `dense` is `False`)\n",
    "    - `tfidf`${}\\in\\{$ `<TfidfModel>`, `None` $\\}$ (only relevant when `dense` is `False`)\n",
    "    - `nonzero_limit`${}\\in\\{100, 200, \\ldots, 600\\}$\n",
    "- TFIDF:\n",
    "    - `slope`${}\\in\\{0.0, 0.1, \\ldots, 1.0\\}$\n",
    "- Okapi BM25:\n",
    "    - $k_1\\in\\{1.2, 1.3, \\ldots, 2.0\\}$"
   ]
  },
  {
   "cell_type": "markdown",
   "metadata": {},
   "source": [
    "   \n",
    "### 6.1 Datasets\n"
   ]
  },
  {
   "cell_type": "code",
   "execution_count": 3,
   "metadata": {},
   "outputs": [
    {
     "name": "stderr",
     "output_type": "stream",
     "text": [
      "2019-01-30 22:38:07,147 : INFO : 'pattern' package not found; tag filters are not available for English\n"
     ]
    }
   ],
   "source": [
    "from common import ClassificationResult\n",
    "\n",
    "results = dict()\n",
    "\n",
    "\n",
    "def load_results(name, dataset_loader):\n",
    "    \"\"\"Loads classification results for a given dataset.\n",
    "    \n",
    "    Parameters\n",
    "    ----------\n",
    "    name : str\n",
    "        The name of a dataset.\n",
    "    dataset_loader : callable\n",
    "        Loads training, validation, and test sets from the dataset.\n",
    "    \"\"\"\n",
    "\n",
    "    results[name] = dict()\n",
    "    datasets = None\n",
    "    for configuration in configurations:\n",
    "        basename = '{}-{}'.format(name, '-'.join(map(str, configuration)))\n",
    "        try:\n",
    "            results[name][configuration] = ClassificationResult.from_file(basename)\n",
    "        except IOError:\n",
    "            if datasets is None:\n",
    "                datasets = dataset_loader()\n",
    "            train, validation, test = datasets\n",
    "            result = train.classify(validation, test, *configuration)\n",
    "            result.to_file(basename)\n",
    "            results[name][configuration] = result"
   ]
  },
  {
   "cell_type": "markdown",
   "metadata": {},
   "source": [
    "\n",
    "For classification, we use the following datasets:\n",
    "\n",
    "- [20 Newsgroups][] (1995, 14M, 18.83k documents, *free*)\n",
    "\n",
    " [20 Newsgroups]: http://qwone.com/~jason/20Newsgroups/ (Home Page for 20 Newsgroups Data Set)"
   ]
  },
  {
   "cell_type": "code",
   "execution_count": 4,
   "metadata": {},
   "outputs": [
    {
     "name": "stderr",
     "output_type": "stream",
     "text": [
      "2019-01-30 22:38:07,514 : INFO : Loading a classification result from file results/classification-newsgroups-vsm-bow-inner_product-32.pkl.xz.\n",
      "2019-01-30 22:38:07,520 : INFO : Loading a classification result from file results/classification-newsgroups-vsm-tfidf-inner_product-32.pkl.xz.\n",
      "2019-01-30 22:38:07,521 : INFO : Loading a classification result from file results/classification-newsgroups-vsm-bm25-inner_product-32.pkl.xz.\n",
      "2019-01-30 22:38:07,526 : INFO : Loading a classification result from file results/classification-newsgroups-lsi-tfidf-inner_product-32.pkl.xz.\n"
     ]
    }
   ],
   "source": [
    "from common import load_newsgroups\n",
    "\n",
    "load_results('newsgroups', load_newsgroups)"
   ]
  },
  {
   "cell_type": "markdown",
   "metadata": {},
   "source": [
    "\n",
    "- [AMAZON][] (2015, 20G, 142.8m documents, *free*)\n",
    "    - For computational efficiency, we subsample the dataset using four of the 24 product categories.\n",
    "    - For computational efficiency, we subsample the dataset using only 1 out of every 100 review texts.\n",
    "\n",
    " [AMAZON]: http://jmcauley.ucsd.edu/data/amazon/ (Amazon review data)\n"
   ]
  },
  {
   "cell_type": "code",
   "execution_count": 5,
   "metadata": {},
   "outputs": [],
   "source": [
    "from common import load_amazon\n",
    "\n",
    "# load_results('bbc', load_bbc)  # Not yet computed."
   ]
  },
  {
   "cell_type": "markdown",
   "metadata": {},
   "source": [
    "\n",
    "- [BBC] (2005, 864K, 2.23k documents, *free*)\n",
    "\n",
    " [BBC]: http://mlg.ucd.ie/datasets/bbc.html (Insight - BBC Datasets)"
   ]
  },
  {
   "cell_type": "code",
   "execution_count": 6,
   "metadata": {},
   "outputs": [],
   "source": [
    "from common import load_bbc\n",
    "\n",
    "# load_results('bbc', load_bbc)  # Not yet computed."
   ]
  },
  {
   "cell_type": "markdown",
   "metadata": {},
   "source": [
    "\n",
    "- [BBCSport][BBC] (2005, 255K, 737 documents, *free*)\n",
    "\n",
    " [BBC]: http://mlg.ucd.ie/datasets/bbc.html (Insight - BBC Datasets)"
   ]
  },
  {
   "cell_type": "code",
   "execution_count": 7,
   "metadata": {},
   "outputs": [],
   "source": [
    "from common import load_bbcsport\n",
    "\n",
    "# load_results('bbcsport', load_bbcsport)  # Not yet computed."
   ]
  },
  {
   "cell_type": "markdown",
   "metadata": {},
   "source": [
    "\n",
    "- [OHSUMED][] (1994, 24M, 50.22k documents, *free*)\n",
    "\n",
    " [OHSUMED]: http://disi.unitn.it/moschitti/corpora.htm (Donwloadable Corpora)\n"
   ]
  },
  {
   "cell_type": "code",
   "execution_count": 8,
   "metadata": {},
   "outputs": [],
   "source": [
    "from common import load_ohsumed\n",
    "\n",
    "# load_results('bbcsport', load_ohsumed)  # Not yet computed."
   ]
  },
  {
   "cell_type": "markdown",
   "metadata": {},
   "source": [
    "\n",
    "- [Reuters-21578][] (1987, 8.2M, 215.78k documents, *free*)\n",
    "\n",
    " [Reuters-21578]: http://www.daviddlewis.com/resources/testcollections/reuters21578/ (Reuters-21578 Text Categorization Test Collection)"
   ]
  },
  {
   "cell_type": "code",
   "execution_count": 9,
   "metadata": {},
   "outputs": [],
   "source": [
    "from common import load_reuters\n",
    "\n",
    "# load_results('reuters', load_reuters)  # Not yet computed."
   ]
  },
  {
   "cell_type": "markdown",
   "metadata": {},
   "source": [
    "- [TWITTER][] (2011, 160K, 6.4k documents, *free*)\n",
    "\n",
    " [TWITTER]: https://web.archive.org/web/20180328044709/www.sananalytics.com/lab/twitter-sentiment/ (Sanders Analytics - Twitter Sentiment Corpus)"
   ]
  },
  {
   "cell_type": "code",
   "execution_count": 10,
   "metadata": {},
   "outputs": [],
   "source": [
    "from common import load_twitter\n",
    "\n",
    "# load_results('twitter', load_twitter)  # Not yet computed."
   ]
  },
  {
   "cell_type": "markdown",
   "metadata": {},
   "source": [
    "\n",
    "### 6.3 Classification\n",
    "\n",
    "We compare the individual document representations, term weighing schemes, and similarities using $k$NN on standard datasets. In addition to the above parameters, we also tune $k\\in\\{1,2,\\ldots,19\\}$.\n",
    "\n",
    "## 7. Results\n",
    "\n",
    "TODO (Michal Štefánik).  \n",
    "Useful links:\n",
    "\n",
    "- [Monochrome (Black & white) plots in matplotlib](http://olsgaard.dk/monochrome-black-white-plots-in-matplotlib.html)\n",
    "- [Add confidence interval on barplot](https://python-graph-gallery.com/8-add-confidence-interval-on-barplot/)"
   ]
  },
  {
   "cell_type": "code",
   "execution_count": 11,
   "metadata": {},
   "outputs": [
    {
     "data": {
      "text/plain": [
       "{('vsm',\n",
       "  'bow',\n",
       "  'inner_product',\n",
       "  32): <ClassificationResult, accuracy: 42.19%, params: {'k': 1, 'measure': 'inner_product', 'weights': 'bow', 'num_bits': 32, 'space': 'vsm'}>,\n",
       " ('vsm',\n",
       "  'tfidf',\n",
       "  'inner_product',\n",
       "  32): <ClassificationResult, accuracy: 67.06%, params: {'num_bits': 32, 'k': 17, 'measure': 'inner_product', 'weights': 'tfidf', 'slope': 1.0, 'space': 'vsm'}>,\n",
       " ('vsm',\n",
       "  'bm25',\n",
       "  'inner_product',\n",
       "  32): <ClassificationResult, accuracy: 61.18%, params: {'num_bits': 32, 'k': 1, 'measure': 'inner_product', 'weights': 'bm25', 'k1': 2.0, 'space': 'vsm'}>,\n",
       " ('lsi',\n",
       "  'tfidf',\n",
       "  'inner_product',\n",
       "  32): <ClassificationResult, accuracy: 63.99%, params: {'num_bits': 32, 'k': 1, 'measure': 'inner_product', 'weights': 'tfidf', 'slope': 1.0, 'space': 'lsi'}>}"
      ]
     },
     "execution_count": 11,
     "metadata": {},
     "output_type": "execute_result"
    }
   ],
   "source": [
    "results['newsgroups']"
   ]
  },
  {
   "cell_type": "code",
   "execution_count": 12,
   "metadata": {},
   "outputs": [
    {
     "name": "stdout",
     "output_type": "stream",
     "text": [
      "Help on method accuracy in module common:\n",
      "\n",
      "accuracy(significance_level=0.05) method of common.ClassificationResult instance\n",
      "    Returns pointwise and interval estimates for the accuracy.\n",
      "    \n",
      "    Parameters\n",
      "    ----------\n",
      "    significance_level : scalar\n",
      "        The likelihood that the actual accuracy falls into the\n",
      "        confidence interval.\n",
      "    \n",
      "    Returns\n",
      "    -------\n",
      "    pointwise_estimate : scalar\n",
      "        An unbiased pointwise estimate of the expected value of\n",
      "        the accuracy.\n",
      "    lower_bound : scalar\n",
      "        The lower bound of the confidence interval for the accuracy.\n",
      "    upper_bound : scalar\n",
      "        The upper bound of the confidence interval for the accuracy.\n",
      "\n"
     ]
    }
   ],
   "source": [
    "help(results['newsgroups'][('vsm', 'bow', 'inner_product', 32)].accuracy)"
   ]
  },
  {
   "cell_type": "code",
   "execution_count": 13,
   "metadata": {},
   "outputs": [
    {
     "data": {
      "text/plain": [
       "(0.6706054168879447, 0.6599063054175914, 0.6811305932543966)"
      ]
     },
     "execution_count": 13,
     "metadata": {},
     "output_type": "execute_result"
    }
   ],
   "source": [
    "results['newsgroups'][('vsm', 'tfidf', 'inner_product', 32)].accuracy()"
   ]
  },
  {
   "cell_type": "code",
   "execution_count": 68,
   "metadata": {},
   "outputs": [],
   "source": [
    "results['newsgroups2'] = results['newsgroups']"
   ]
  },
  {
   "cell_type": "code",
   "execution_count": 44,
   "metadata": {},
   "outputs": [],
   "source": [
    "styles = ({'hatch': '///', 'color': 'w', 'zorder': 10},\n",
    "          {'hatch': '--', 'color': 'w', 'zorder': 10},\n",
    "          {'hatch': '...', 'color': 'w', 'zorder': 10},\n",
    "          {'hatch': 'xxx', 'color': 'w', 'zorder': 10})"
   ]
  },
  {
   "cell_type": "code",
   "execution_count": 104,
   "metadata": {},
   "outputs": [
    {
     "data": {
      "image/png": "[encoded data removed]",
      "text/plain": [
       "<Figure size 432x288 with 1 Axes>"
      ]
     },
     "metadata": {
      "needs_background": "light"
     },
     "output_type": "display_data"
    }
   ],
   "source": [
    "# TODO: segmentation by groups needs to be done as in\n",
    "# https://stackoverflow.com/questions/14270391/python-matplotlib-multiple-bars\n",
    "\n",
    "import matplotlib.pyplot as plt\n",
    "import numpy as np\n",
    "\n",
    "for x_i, dataset in enumerate(results.keys()):\n",
    "    ax = plt.subplot(111)\n",
    "\n",
    "    x = [str(k) for k in results[dataset]]\n",
    "    y = [v.accuracy()[0] for v in results[dataset].values()]\n",
    "    yerr1 = [v.accuracy()[1] for v in results[dataset].values()]\n",
    "    yerr2 = [v.accuracy()[2] for v in results[dataset].values()]\n",
    "    \n",
    "    width = 0.25 # the width of the bars \n",
    "    ind = np.arange(len(y))  # the x locations for the groups\n",
    "    for i, _ in enumerate(ind):\n",
    "        plt.bar(ind[i], y[i], width, **styles[i], align='center',\n",
    "                yerr=abs(yerr1[i] - yerr2[i]))\n",
    "        ax.set_xticks(ind)\n",
    "        ax.set_xticklabels(x, minor=False, rotation=60)\n",
    "    plt.title(dataset)\n",
    "    plt.ylabel('accuracy')\n",
    "    plt.xlabel('configuration')\n",
    "fig.set_size_inches(10, 5)\n"
   ]
  },
  {
   "cell_type": "code",
   "execution_count": null,
   "metadata": {},
   "outputs": [],
   "source": []
  }
 ],
 "metadata": {
  "kernelspec": {
   "display_name": "Python 3",
   "language": "python",
   "name": "python3"
  },
  "language_info": {
   "codemirror_mode": {
    "name": "ipython",
    "version": 3
   },
   "file_extension": ".py",
   "mimetype": "text/x-python",
   "name": "python",
   "nbconvert_exporter": "python",
   "pygments_lexer": "ipython3",
   "version": "3.6.8"
  }
 },
 "nbformat": 4,
 "nbformat_minor": 2
}
