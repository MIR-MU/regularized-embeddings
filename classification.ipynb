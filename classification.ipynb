{
 "cells": [
  {
   "cell_type": "code",
   "execution_count": 1,
   "metadata": {},
   "outputs": [],
   "source": [
    "import logging\n",
    "\n",
    "logging.basicConfig(format='%(asctime)s : %(levelname)s : %(message)s', level=logging.INFO)"
   ]
  },
  {
   "cell_type": "markdown",
   "metadata": {},
   "source": [
    "# Regularized Word Embeddings in Text Classification and in Ad-hoc IR\n",
    "## 4. Document Representations\n",
    "\n",
    "We consider three document representations:\n",
    "\n",
    "- Vector Space Model (VSM)\n",
    "- Soft Vector Space Model (Soft VSM)\n",
    "- Latent Semantic Indexing (LSI)\n",
    "\n",
    "We consider four term weighting schemes:\n",
    "\n",
    "- Binary\n",
    "- Bag of Words (BOW)\n",
    "- TF-IDF\n",
    "- Okapi BM25\n",
    "\n",
    "And we consider two similarities:\n",
    "\n",
    "- Inner Product (IP)\n",
    "- Relaxed Word Mover's Distance (RWMD)\n",
    "\n",
    "## 6. Evaluation\n",
    "\n",
    "Not all combinations of document representations, term weighting schemes, and similarities are evaluated:\n",
    "\n",
    "| ↓ Weights, Space and similarity → | VSM IP | VSM WMD | Soft VSM IP | LSI IP |\n",
    "|--|--|--|--|--|\n",
    "| Binary | ❌ | ❌ | ✅<sup>2</sup>  | ❌ |\n",
    "| BOW | ✅ | ✅ | ✅<sup>1, 2</sup> | ❌ |\n",
    "| TF-IDF | ✅ | ❌ | ✅ | ✅ |\n",
    "| Okapi BM25 | ✅ | ❌ | ❌ | ❌ |\n",
    "\n",
    "<sup>1</sup> We use non-normalized BOW queries, $L_1$-normalized BOW collection documents, and $L_1$-normalized inner product.  \n",
    "<sup>2</sup> We only use the dense soft VSM. "
   ]
  },
  {
   "cell_type": "code",
   "execution_count": 2,
   "metadata": {},
   "outputs": [],
   "source": [
    "configurations = [\n",
    "    # ('random', 'random', 'random', 'random'),\n",
    "    ('vsm', 'bow', 'inner_product', 32),\n",
    "    ('dense_soft_vsm', 'tfidf', 'inner_product', 32),\n",
    "    ('dense_soft_vsm', 'tfidf', 'inner_product', 1),\n",
    "    ('vsm', 'bm25', 'inner_product', 32),\n",
    "    ('sparse_soft_vsm', 'tfidf', 'inner_product', 32),\n",
    "    # ('lsi', 'tfidf', 'inner_product', 32),\n",
    "    ('vsm', 'bow', 'wmd', 32),\n",
    "    # ('vsm', 'tfidf', 'inner_product', 32),\n",
    "    # ('dense_soft_vsm', 'binary', 'inner_product', 32),\n",
    "    # ('dense_soft_vsm', 'binary', 'inner_product', 1),\n",
    "    # ('dense_soft_vsm', 'bow', 'inner_product', 32),\n",
    "    # ('dense_soft_vsm', 'bow', 'inner_product', 1),\n",
    "    # ('vsm', 'bow', 'wmd', 1),\n",
    "    ('sparse_soft_vsm', 'tfidf', 'inner_product', 1),\n",
    "]\n",
    "configuration_names = {\n",
    "    ('random', 'random', 'random', 'random'): 'Random',\n",
    "    ('vsm', 'bow', 'inner_product', 32): 'BoW',\n",
    "    ('vsm', 'tfidf', 'inner_product', 32): 'TF-IDF',\n",
    "    ('vsm', 'bm25', 'inner_product', 32): 'Okapi BM25',\n",
    "    ('lsi', 'tfidf', 'inner_product', 32): 'LSI',\n",
    "    ('dense_soft_vsm', 'tfidf', 'inner_product', 32): 'Soft VSM',\n",
    "    ('dense_soft_vsm', 'tfidf', 'inner_product', 1): 'Soft VSM (quan.)',\n",
    "    ('dense_soft_vsm', 'bow', 'inner_product', 32): 'NTLM (32b)',\n",
    "    ('dense_soft_vsm', 'bow', 'inner_product', 1): 'NTLM (1b)',\n",
    "    ('dense_soft_vsm', 'binary', 'inner_product', 32): 'Query Expansion',\n",
    "    ('dense_soft_vsm', 'binary', 'inner_product', 1): 'Query Expansion (1b)',\n",
    "    ('vsm', 'bow', 'wmd', 32): 'WMD',\n",
    "    ('vsm', 'bow', 'wmd', 1): 'WMD (quant.)',\n",
    "    ('sparse_soft_vsm', 'tfidf', 'inner_product', 32): r'Soft VSM (or.)',\n",
    "    ('sparse_soft_vsm', 'tfidf', 'inner_product', 1): r'Soft VSM (quan., or.)',\n",
    "}"
   ]
  },
  {
   "cell_type": "markdown",
   "metadata": {},
   "source": [
    "There are several parameters that are tuned by grid search.\n",
    "\n",
    "- Soft VSM (sparse):\n",
    "    - `symmetric`${}\\in\\{$ `True`, `False` $\\}$\n",
    "    - `positive_definite`${}\\in\\{$ `True`, `False` $\\}$\n",
    "    - `tfidf`${}\\in\\{$ `<TfidfModel>`, `None` $\\}$\n",
    "    - `nonzero_limit`${}\\in\\{100, 200, \\ldots, 600\\}$\n",
    "- TFIDF:\n",
    "    - `slope`${}\\in\\{0.0, 0.1, \\ldots, 1.0\\}$\n",
    "- Okapi BM25:\n",
    "    - $k_1\\in\\{1.2, 1.3, \\ldots, 2.0\\}$"
   ]
  },
  {
   "cell_type": "markdown",
   "metadata": {},
   "source": [
    "   \n",
    "### 6.1 Datasets\n"
   ]
  },
  {
   "cell_type": "code",
   "execution_count": 3,
   "metadata": {},
   "outputs": [],
   "source": [
    "from math import sqrt\n",
    "\n",
    "from common import ClassificationResult, KusnerEtAlClassificationResult\n",
    "\n",
    "dataset_names = []\n",
    "results = dict()\n",
    "\n",
    "def load_results(name, test_error_height, error_bar_height, speed_logs=()):\n",
    "    \"\"\"Loads classification results for a given dataset.\n",
    "    \n",
    "    Parameters\n",
    "    ----------\n",
    "    name : str\n",
    "        The name of a dataset.\n",
    "    test_error_height : scalar\n",
    "        The height in pixels of a reported test error in Figure 3 of Kusner et al. (2015).\n",
    "    error_bar_height : scalar\n",
    "        The height in pixels of a reported error bar in Figure 3 of Kusner et al. (2015).\n",
    "    speed_logs : iterable of str, optional\n",
    "        Text logs regarding processing speed of the Word Mover's Distance on this dataset.\n",
    "    \"\"\"\n",
    "\n",
    "    dataset_names.append(name)\n",
    "    results[name] = dict()\n",
    "    datasets = None\n",
    "    for configuration in configurations:\n",
    "        if configuration == ('vsm', 'bow', 'wmd', 32):\n",
    "            result = KusnerEtAlClassificationResult(\n",
    "                test_error_height,\n",
    "                error_bar_height,\n",
    "                {'speed_logs': list(speed_logs)},\n",
    "            )\n",
    "        else:\n",
    "            basename = '{}-{}'.format(name, '-'.join(map(str, configuration)))\n",
    "            try:\n",
    "                result = ClassificationResult.from_file(basename)\n",
    "            except IOError:\n",
    "                if datasets is None:\n",
    "                    import dataset\n",
    "                    dataset_loader = dataset.__dict__['load_{}'.format(name)]\n",
    "                    datasets = dataset_loader()\n",
    "                train, validation, test = datasets\n",
    "                result = train.classify(validation, test, *configuration)\n",
    "                result.to_file(basename)\n",
    "        results[name][configuration] = result"
   ]
  },
  {
   "cell_type": "markdown",
   "metadata": {},
   "source": [
    "For classification, we use the following datasets:"
   ]
  },
  {
   "cell_type": "markdown",
   "metadata": {},
   "source": [
    "\n",
    "- [BBCSport][BBC] (2005, 255K, 737 documents, *free*)\n",
    "\n",
    " [BBC]: http://mlg.ucd.ie/datasets/bbc.html (Insight - BBC Datasets)"
   ]
  },
  {
   "cell_type": "code",
   "execution_count": 4,
   "metadata": {},
   "outputs": [
    {
     "name": "stderr",
     "output_type": "stream",
     "text": [
      "2019-02-18 22:17:00,778 : INFO : Loading a classification result from file results/classification-bbcsport-vsm-bow-inner_product-32.pkl.xz.\n",
      "2019-02-18 22:17:00,793 : INFO : Loading a classification result from file results/classification-bbcsport-dense_soft_vsm-tfidf-inner_product-32.pkl.xz.\n",
      "2019-02-18 22:17:00,794 : INFO : Loading a classification result from file results/classification-bbcsport-dense_soft_vsm-tfidf-inner_product-1.pkl.xz.\n",
      "2019-02-18 22:17:00,796 : INFO : Loading a classification result from file results/classification-bbcsport-vsm-bm25-inner_product-32.pkl.xz.\n",
      "2019-02-18 22:17:00,806 : INFO : Loading a classification result from file results/classification-bbcsport-sparse_soft_vsm-tfidf-inner_product-32.pkl.xz.\n",
      "2019-02-18 22:17:00,850 : INFO : Loading a classification result from file results/classification-bbcsport-sparse_soft_vsm-tfidf-inner_product-1.pkl.xz.\n"
     ]
    }
   ],
   "source": [
    "load_results('bbcsport', 8.1537210257, 3.7399280445)"
   ]
  },
  {
   "cell_type": "markdown",
   "metadata": {},
   "source": [
    "- [TWITTER][] (2011, 160K, 6.4k documents subsampled to 3,108 documents, *free*)\n",
    "\n",
    " [TWITTER]: https://web.archive.org/web/20180328044709/www.sananalytics.com/lab/twitter-sentiment/ (Sanders Analytics - Twitter Sentiment Corpus)"
   ]
  },
  {
   "cell_type": "code",
   "execution_count": 5,
   "metadata": {},
   "outputs": [
    {
     "name": "stderr",
     "output_type": "stream",
     "text": [
      "2019-02-18 22:17:00,912 : INFO : Loading a classification result from file results/classification-twitter-vsm-bow-inner_product-32.pkl.xz.\n",
      "2019-02-18 22:17:00,923 : INFO : Loading a classification result from file results/classification-twitter-dense_soft_vsm-tfidf-inner_product-32.pkl.xz.\n",
      "2019-02-18 22:17:00,925 : INFO : Loading a classification result from file results/classification-twitter-dense_soft_vsm-tfidf-inner_product-1.pkl.xz.\n",
      "2019-02-18 22:17:00,926 : INFO : Loading a classification result from file results/classification-twitter-vsm-bm25-inner_product-32.pkl.xz.\n",
      "2019-02-18 22:17:00,927 : INFO : Loading a classification result from file results/classification-twitter-sparse_soft_vsm-tfidf-inner_product-32.pkl.xz.\n",
      "2019-02-18 22:17:00,934 : INFO : Loading a classification result from file results/classification-twitter-sparse_soft_vsm-tfidf-inner_product-1.pkl.xz.\n"
     ]
    }
   ],
   "source": [
    "load_results('twitter', 50.1493982864, 3.29247)"
   ]
  },
  {
   "cell_type": "markdown",
   "metadata": {},
   "source": [
    "\n",
    "- [BBC] (2005, 864K, 2.23k documents, *free*)\n",
    "\n",
    " [BBC]: http://mlg.ucd.ie/datasets/bbc.html (Insight - BBC Datasets)"
   ]
  },
  {
   "cell_type": "code",
   "execution_count": 6,
   "metadata": {},
   "outputs": [],
   "source": [
    "# load_results('bbc', load_bbc)"
   ]
  },
  {
   "cell_type": "markdown",
   "metadata": {},
   "source": [
    "\n",
    "- [OHSUMED][] (1994, 24M, 50.22k documents, *free*)\n",
    "    - We only use documents in a single category.\n",
    "    - For computational efficiency, we subsample the dataset, using the first 10 classes.\n",
    "\n",
    " [OHSUMED]: http://disi.unitn.it/moschitti/corpora.htm (Donwloadable Corpora)\n"
   ]
  },
  {
   "cell_type": "code",
   "execution_count": 7,
   "metadata": {},
   "outputs": [
    {
     "name": "stderr",
     "output_type": "stream",
     "text": [
      "2019-02-18 22:17:01,000 : INFO : Loading a classification result from file results/classification-ohsumed-vsm-bow-inner_product-32.pkl.xz.\n",
      "2019-02-18 22:17:01,024 : INFO : Loading a classification result from file results/classification-ohsumed-dense_soft_vsm-tfidf-inner_product-32.pkl.xz.\n",
      "2019-02-18 22:17:01,025 : INFO : Loading a classification result from file results/classification-ohsumed-dense_soft_vsm-tfidf-inner_product-1.pkl.xz.\n",
      "2019-02-18 22:17:01,027 : INFO : Loading a classification result from file results/classification-ohsumed-vsm-bm25-inner_product-32.pkl.xz.\n",
      "2019-02-18 22:17:01,028 : INFO : Loading a classification result from file results/classification-ohsumed-sparse_soft_vsm-tfidf-inner_product-32.pkl.xz.\n",
      "2019-02-18 22:17:01,069 : INFO : Loading a classification result from file results/classification-ohsumed-sparse_soft_vsm-tfidf-inner_product-1.pkl.xz.\n"
     ]
    }
   ],
   "source": [
    "load_results('ohsumed', 77.7931252118, 1.34765)"
   ]
  },
  {
   "cell_type": "markdown",
   "metadata": {},
   "source": [
    "\n",
    "- [Reuters-21578][] (1987, 8.2M, 215.78k documents, *free*)\n",
    "    - We use the 8-class version with train / test split as described in [Cardoso-Cachopo (2007)][cardosocapocho07].\n",
    "\n",
    " [cardosocapocho07]: http://citeseerx.ist.psu.edu/viewdoc/download?doi=10.1.1.96.7709&rep=rep1&type=pdf (Improving Methods for Single-label Text Categorization)\n",
    " [Reuters-21578]: http://www.daviddlewis.com/resources/testcollections/reuters21578/ (Reuters-21578 Text Categorization Test Collection)"
   ]
  },
  {
   "cell_type": "code",
   "execution_count": 8,
   "metadata": {},
   "outputs": [
    {
     "name": "stderr",
     "output_type": "stream",
     "text": [
      "2019-02-18 22:17:01,132 : INFO : Loading a classification result from file results/classification-reuters-vsm-bow-inner_product-32.pkl.xz.\n",
      "2019-02-18 22:17:01,145 : INFO : Loading a classification result from file results/classification-reuters-dense_soft_vsm-tfidf-inner_product-32.pkl.xz.\n",
      "2019-02-18 22:17:01,150 : INFO : Loading a classification result from file results/classification-reuters-dense_soft_vsm-tfidf-inner_product-1.pkl.xz.\n",
      "2019-02-18 22:17:01,156 : INFO : Loading a classification result from file results/classification-reuters-vsm-bm25-inner_product-32.pkl.xz.\n",
      "2019-02-18 22:17:01,159 : INFO : Loading a classification result from file results/classification-reuters-sparse_soft_vsm-tfidf-inner_product-32.pkl.xz.\n",
      "2019-02-18 22:17:01,171 : INFO : Loading a classification result from file results/classification-reuters-sparse_soft_vsm-tfidf-inner_product-1.pkl.xz.\n"
     ]
    }
   ],
   "source": [
    "load_results('reuters', 6.1989037917, 1.32812)"
   ]
  },
  {
   "cell_type": "markdown",
   "metadata": {},
   "source": [
    "\n",
    "- [AMAZON][] (2015, 20G, 142.8m documents subsampled to 8,000 documents, *free*)\n",
    "    - We only use the “Books”, “CDs and Vinyl”, “Electronics”, and “Home and Kitchen” categories.\n",
    "\n",
    " [AMAZON]: http://jmcauley.ucsd.edu/data/amazon/ (Amazon review data)\n"
   ]
  },
  {
   "cell_type": "code",
   "execution_count": 9,
   "metadata": {},
   "outputs": [
    {
     "name": "stderr",
     "output_type": "stream",
     "text": [
      "2019-02-18 22:17:01,225 : INFO : Loading a classification result from file results/classification-amazon-vsm-bow-inner_product-32.pkl.xz.\n",
      "2019-02-18 22:17:01,239 : INFO : Loading a classification result from file results/classification-amazon-dense_soft_vsm-tfidf-inner_product-32.pkl.xz.\n",
      "2019-02-18 22:17:01,242 : INFO : Loading a classification result from file results/classification-amazon-dense_soft_vsm-tfidf-inner_product-1.pkl.xz.\n",
      "2019-02-18 22:17:01,247 : INFO : Loading a classification result from file results/classification-amazon-vsm-bm25-inner_product-32.pkl.xz.\n",
      "2019-02-18 22:17:01,249 : INFO : Loading a classification result from file results/classification-amazon-sparse_soft_vsm-tfidf-inner_product-32.pkl.xz.\n",
      "2019-02-18 22:17:01,275 : INFO : Loading a classification result from file results/classification-amazon-sparse_soft_vsm-tfidf-inner_product-1.pkl.xz.\n"
     ]
    }
   ],
   "source": [
    "load_results('amazon', 13.0123213547, 2.2318)"
   ]
  },
  {
   "cell_type": "markdown",
   "metadata": {},
   "source": [
    "\n",
    "- [20 Newsgroups][] (1995, 14M, 18.83k documents, *free*)\n",
    "\n",
    " [20 Newsgroups]: http://qwone.com/~jason/20Newsgroups/ (Home Page for 20 Newsgroups Data Set)"
   ]
  },
  {
   "cell_type": "code",
   "execution_count": 10,
   "metadata": {},
   "outputs": [
    {
     "name": "stderr",
     "output_type": "stream",
     "text": [
      "2019-02-18 22:17:01,331 : INFO : Loading a classification result from file results/classification-20news-vsm-bow-inner_product-32.pkl.xz.\n",
      "2019-02-18 22:17:01,333 : INFO : Loading a classification result from file results/classification-20news-dense_soft_vsm-tfidf-inner_product-32.pkl.xz.\n",
      "2019-02-18 22:17:01,346 : INFO : Loading a classification result from file results/classification-20news-dense_soft_vsm-tfidf-inner_product-1.pkl.xz.\n",
      "2019-02-18 22:17:01,348 : INFO : Loading a classification result from file results/classification-20news-vsm-bm25-inner_product-32.pkl.xz.\n",
      "2019-02-18 22:17:01,349 : INFO : Loading a classification result from file results/classification-20news-sparse_soft_vsm-tfidf-inner_product-32.pkl.xz.\n",
      "2019-02-18 22:17:01,369 : INFO : Loading a classification result from file results/classification-20news-sparse_soft_vsm-tfidf-inner_product-1.pkl.xz.\n"
     ]
    }
   ],
   "source": [
    "load_results('20news', 46.8542690888, 1.34239, [\n",
    "    'Processed 100006 document pairs / {} seconds'.format(2874.0 * 64),\n",
    "    'Processed 100012 document pairs / {} seconds'.format(2110.0 * 64),\n",
    "    'Processed 99982 document pairs / {} seconds'.format(3059.0 * 64),\n",
    "    'Processed 100004 document pairs / {} seconds'.format(9319.0 * 64),\n",
    "    'Processed 99998 document pairs / {} seconds'.format(3792.0 * 64),\n",
    "    'Processed 99998 document pairs / {} seconds'.format(2160.0 * 64),\n",
    "    'Processed 100003 document pairs / {} seconds'.format(5445.0 * 64),\n",
    "    'Processed 99997 document pairs / {} seconds'.format(4502.0 * 64),\n",
    "    'Processed 100002 document pairs / {} seconds'.format(2008.0 * 64),\n",
    "    'Processed 100001 document pairs / {} seconds'.format(3682.0 * 64),\n",
    "    'Processed 100011 document pairs / {} seconds'.format(2237.0 * 64),\n",
    "    'Processed 99990 document pairs / {} seconds'.format(1866.0 * 64),\n",
    "    'Processed 99996 document pairs / {} seconds'.format(3722.0 * 64),\n",
    "    'Processed 100002 document pairs / {} seconds'.format(15414.0 * 64),\n",
    "    'Processed 99999 document pairs / {} seconds'.format(1876.0 * 64),\n",
    "    'Processed 100007 document pairs / {} seconds'.format(1703.0 * 64),\n",
    "    'Processed 99993 document pairs / {} seconds'.format(2193.0 * 64),\n",
    "])"
   ]
  },
  {
   "cell_type": "markdown",
   "metadata": {},
   "source": [
    "\n",
    "### 6.3 Classification\n",
    "\n",
    "We compare the individual document representations, term weighing schemes, and similarities using $k$NN on standard datasets. In addition to the above parameters, we also tune $k\\in\\{1,2,\\ldots,19\\}$.\n",
    "\n",
    "## 7. Results\n",
    " \n",
    "Useful links:\n",
    "\n",
    "- [Monochrome (Black & white) plots in matplotlib](http://olsgaard.dk/monochrome-black-white-plots-in-matplotlib.html)\n",
    "- [Add confidence interval on barplot](https://python-graph-gallery.com/8-add-confidence-interval-on-barplot/)"
   ]
  },
  {
   "cell_type": "code",
   "execution_count": 11,
   "metadata": {},
   "outputs": [
    {
     "name": "stdout",
     "output_type": "stream",
     "text": [
      "make: „figures“ je aktuální.\r\n"
     ]
    }
   ],
   "source": [
    "!make figures"
   ]
  },
  {
   "cell_type": "code",
   "execution_count": 30,
   "metadata": {},
   "outputs": [
    {
     "data": {
      "image/png": "[encoded data removed]",
      "text/plain": [
       "<Figure size 547.2x129.6 with 1 Axes>"
      ]
     },
     "metadata": {
      "needs_background": "light"
     },
     "output_type": "display_data"
    }
   ],
   "source": [
    "%matplotlib inline\n",
    "\n",
    "from itertools import chain, cycle\n",
    "\n",
    "import numpy as np\n",
    "import matplotlib.pyplot as plt\n",
    "from matplotlib import rcParams\n",
    "\n",
    "\n",
    "def flip(items, ncol):\n",
    "    return chain(*[items[i::ncol] for i in range(ncol)])\n",
    "\n",
    "num_bars = len(configurations)\n",
    "num_datasets = len(dataset_names)\n",
    "bar_width = 1.0 / (num_bars + 2)\n",
    "bar_ys, bar_yerrs_lower, bar_yerrs_upper = list(zip(*map(lambda x: zip(*x), (\n",
    "    (\n",
    "        (\n",
    "            100 * (1.0 - results[name][configuration].accuracy()[0]),\n",
    "            100 * (results[name][configuration].accuracy()[2] - results[name][configuration].accuracy()[0]),\n",
    "            100 * (results[name][configuration].accuracy()[0] - results[name][configuration].accuracy()[1]),\n",
    "        )\n",
    "        for name in dataset_names\n",
    "    )\n",
    "    for configuration in configurations\n",
    "))))\n",
    "bar_xs = [\n",
    "    np.arange(num_datasets) + bar_width * (bar_number - 0.5 * (num_bars - 1))\n",
    "    for bar_number in range(num_bars)\n",
    "]\n",
    "hatches = (' ', '///', '...', 'xxx', '\\\\\\\\\\\\', '**', 'xx', '.', '*', 'o', 'O')\n",
    "\n",
    "rcParams['font.size'] = 9\n",
    "rcParams['font.family'] = 'serif'\n",
    "rcParams['font.serif'] = ['Times New Roman', 'TeX Gyre Termes']\n",
    "# plt.style.use('fivethirtyeight')\n",
    "\n",
    "fig = plt.figure(figsize=(7.6, 1.8))\n",
    "# fig = plt.figure(figsize=(21, 6))\n",
    "ax = fig.add_subplot(111)\n",
    "for x, y, yerr_lower, yerr_upper, label, hatch in zip(\n",
    "            bar_xs,\n",
    "            bar_ys,\n",
    "            bar_yerrs_lower,\n",
    "            bar_yerrs_upper,\n",
    "            map(lambda x: configuration_names[x], configurations),\n",
    "            cycle(hatches),\n",
    "        ):\n",
    "    yerr = (yerr_lower, yerr_upper)\n",
    "    plt.bar(x, y, width=bar_width, edgecolor='black', color='w', yerr=yerr, hatch=hatch, capsize=0, label=label)\n",
    "    # plt.bar(x, y, width=bar_width, edgecolor='black', yerr=yerr, capsize=0, label=label)\n",
    "\n",
    "handles, labels = ax.get_legend_handles_labels()\n",
    "ncol = num_bars\n",
    "plt.legend(flip(handles, ncol), flip(labels, ncol), loc='best', ncol=ncol, prop={'size': 6.84})\n",
    "\n",
    "plt.xticks(bar_xs[num_bars // 2], dataset_names)\n",
    "plt.minorticks_on()\n",
    "plt.ylabel('test error %')\n",
    "plt.xlim((-0.5 * (num_bars + 2) * bar_width, num_datasets - 1 + 0.5 * (num_bars + 2) * bar_width))\n",
    "plt.ylim(0, 75)\n",
    "plt.grid(axis='y', which='major', color='k', alpha=0.5)\n",
    "plt.grid(axis='y', which='minor', color='k', alpha=0.25)\n",
    "plt.tight_layout()\n",
    "plt.savefig('figures/classification-test_error.pdf')\n",
    "plt.show()"
   ]
  },
  {
   "cell_type": "code",
   "execution_count": 32,
   "metadata": {},
   "outputs": [
    {
     "data": {
      "image/png": "[encoded data removed]",
      "text/plain": [
       "<Figure size 259.2x122.4 with 1 Axes>"
      ]
     },
     "metadata": {
      "needs_background": "light"
     },
     "output_type": "display_data"
    }
   ],
   "source": [
    "bar_ys = list(map(lambda x: sum(x) / len(x), bar_ys))\n",
    "bar_yerrs_lower = list(map(lambda x: sum(x) / len(x), bar_yerrs_lower))\n",
    "bar_yerrs_upper = list(map(lambda x: sum(x) / len(x), bar_yerrs_upper))\n",
    "\n",
    "baseline_configuration = ('vsm', 'bow', 'inner_product', 32)\n",
    "baseline_configuration_index = configurations.index(baseline_configuration)\n",
    "baseline_y = bar_ys[baseline_configuration_index]\n",
    "\n",
    "bar_ys = list(map(lambda x: (x / baseline_y, ), bar_ys))\n",
    "bar_yerrs_lower = list(map(lambda x: (x / baseline_y, ), bar_yerrs_lower))\n",
    "bar_yerrs_upper = list(map(lambda x: (x / baseline_y, ), bar_yerrs_upper))\n",
    "# bar_yerrs_lower[baseline_configuration_index] = (0.0, )\n",
    "# bar_yerrs_upper[baseline_configuration_index] = (0.0, )\n",
    "bar_xs = [\n",
    "    bar_width * (bar_number - 0.5 * (num_bars - 1))\n",
    "    for bar_number in range(num_bars)\n",
    "]\n",
    "\n",
    "fig = plt.figure(figsize=(3.6, 1.7))\n",
    "# fig = plt.figure(figsize=(10, 4))\n",
    "ax = fig.add_subplot(111)\n",
    "for x, y, yerr_lower, yerr_upper, label, hatch in zip(\n",
    "            bar_xs,\n",
    "            bar_ys,\n",
    "            bar_yerrs_lower,\n",
    "            bar_yerrs_upper,\n",
    "            map(lambda x: configuration_names[x], configurations),\n",
    "            cycle(hatches),\n",
    "        ):\n",
    "    yerr = (yerr_lower, yerr_upper)\n",
    "    plt.bar(x, y, width=bar_width, edgecolor='black', color='w', yerr=yerr, hatch=hatch, capsize=0, label=label)\n",
    "    # plt.bar(x, y, width=bar_width, edgecolor='black', yerr=yerr, capsize=0, label=label)\n",
    "\n",
    "handles, labels = ax.get_legend_handles_labels()\n",
    "ncol = 2\n",
    "plt.legend(flip(handles, ncol), flip(labels, ncol), loc='best', ncol=ncol, prop={'size': 6.84})\n",
    "\n",
    "# plt.xticks(\n",
    "#     np.add(-0.5 * num_bars * bar_width + 0.5 * bar_width, np.arange(num_bars) * bar_width),\n",
    "#     map(lambda x: configuration_names[x], configurations)\n",
    "# )\n",
    "plt.xticks((), ())\n",
    "plt.yticks((0.0, 0.5, 1.0, 1.5), (0.0, 0.5, 1.0))\n",
    "plt.minorticks_on()\n",
    "plt.ylabel('average error w.r.t. BoW')\n",
    "plt.xlim((-0.5 * (num_bars + 1) * bar_width, 0.5 * (num_bars + 1) * bar_width))\n",
    "plt.ylim((0.0, 1.7))\n",
    "plt.grid(axis='y', which='major', color='k', alpha=0.5)\n",
    "plt.grid(axis='y', which='minor', color='k', alpha=0.25)\n",
    "plt.tight_layout()\n",
    "plt.savefig('figures/classification-avg_test_error_ratio.pdf')\n",
    "plt.show()"
   ]
  },
  {
   "cell_type": "code",
   "execution_count": 28,
   "metadata": {},
   "outputs": [
    {
     "data": {
      "image/png": "[encoded data removed]",
      "text/plain": [
       "<Figure size 259.2x151.2 with 1 Axes>"
      ]
     },
     "metadata": {
      "needs_background": "light"
     },
     "output_type": "display_data"
    }
   ],
   "source": [
    "import numpy as np\n",
    "\n",
    "from common import read_speeds\n",
    "\n",
    "bar_ys, bar_yerrs_lower, bar_yerrs_upper = list(zip(*map(lambda x: zip(*x), (\n",
    "    (\n",
    "        (\n",
    "            read_speeds(results[name][configuration] for name in dataset_names)[0],\n",
    "            read_speeds(results[name][configuration] for name in dataset_names)[0] -\n",
    "                read_speeds(results[name][configuration] for name in dataset_names)[1],\n",
    "            read_speeds(results[name][configuration] for name in dataset_names)[2] -\n",
    "                read_speeds(results[name][configuration] for name in dataset_names)[0],\n",
    "        ),\n",
    "    )\n",
    "    for configuration in configurations\n",
    "))))\n",
    "\n",
    "fig = plt.figure(figsize=(3.6, 2.1))\n",
    "# fig = plt.figure(figsize=(10, 5))\n",
    "ax = fig.add_subplot(111)\n",
    "for x, y, yerr_lower, yerr_upper, label, hatch in zip(\n",
    "            bar_xs,\n",
    "            bar_ys,\n",
    "            bar_yerrs_lower,\n",
    "            bar_yerrs_upper,\n",
    "            map(lambda x: configuration_names[x], configurations),\n",
    "            cycle(hatches),\n",
    "        ):\n",
    "    yerr = (yerr_lower, yerr_upper)\n",
    "    plt.bar(x, y, width=bar_width, edgecolor='black', color='w', yerr=yerr, hatch=hatch, capsize=0, label=label)\n",
    "    # plt.bar(x, y, width=bar_width, edgecolor='black', yerr=yerr, capsize=0, label=label)\n",
    "\n",
    "handles, labels = ax.get_legend_handles_labels()\n",
    "ncol = 2\n",
    "plt.legend(flip(handles, ncol), flip(labels, ncol), loc='best', ncol=ncol, prop={'size': 6.84})\n",
    "\n",
    "plt.xticks((), ())\n",
    "plt.yscale('log')\n",
    "plt.yticks(\n",
    "    (10.0**np.arange(-1, 12)),\n",
    "    ('0.1', '1', '10', '100', '10$^3$', '10$^4$', '10$^5$', '10$^6$', '10$^7$'),\n",
    ")\n",
    "plt.minorticks_on()\n",
    "plt.ylabel('document similarities per second')\n",
    "plt.xlim((-0.5 * (num_bars + 1) * bar_width, 0.5 * (num_bars + 1) * bar_width))\n",
    "plt.grid(axis='y', which='major', color='k', alpha=0.5)\n",
    "plt.grid(axis='y', which='minor', color='k', alpha=0.25)\n",
    "plt.tight_layout()\n",
    "plt.ylim((10**-1, 10**12))\n",
    "plt.savefig('figures/classification-speed.pdf')\n",
    "plt.show()"
   ]
  }
 ],
 "metadata": {
  "kernelspec": {
   "display_name": "Python 3",
   "language": "python",
   "name": "python3"
  },
  "language_info": {
   "codemirror_mode": {
    "name": "ipython",
    "version": 3
   },
   "file_extension": ".py",
   "mimetype": "text/x-python",
   "name": "python",
   "nbconvert_exporter": "python",
   "pygments_lexer": "ipython3",
   "version": "3.5.3"
  }
 },
 "nbformat": 4,
 "nbformat_minor": 2
}
