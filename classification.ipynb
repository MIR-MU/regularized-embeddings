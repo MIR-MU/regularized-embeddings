{
 "cells": [
  {
   "cell_type": "code",
   "execution_count": 105,
   "metadata": {},
   "outputs": [],
   "source": [
    "import logging\n",
    "\n",
    "logging.basicConfig(format='%(asctime)s : %(levelname)s : %(message)s', level=logging.INFO)"
   ]
  },
  {
   "cell_type": "markdown",
   "metadata": {},
   "source": [
    "# Regularized Word Embeddings in Text Classification and in Ad-hoc IR\n",
    "## 4. Document Representations\n",
    "\n",
    "We consider three document representations:\n",
    "\n",
    "- Vector Space Model (VSM)\n",
    "- Soft Vector Space Model (Soft VSM)\n",
    "- Latent Semantic Indexing (LSI)\n",
    "\n",
    "We consider four term weighting schemes:\n",
    "\n",
    "- Binary\n",
    "- Bag of Words (BOW)\n",
    "- TF-IDF\n",
    "- Okapi BM25\n",
    "\n",
    "And we consider two similarities:\n",
    "\n",
    "- Inner Product (IP)\n",
    "- Word Mover's Distance (WMD)\n",
    "\n",
    "## 6. Evaluation\n",
    "\n",
    "Not all combinations of document representations, term weighting schemes, and similarities are evaluated:\n",
    "\n",
    "| ↓ Weights, Space and similarity → | VSM IP | VSM WMD | Soft VSM IP | LSI IP |\n",
    "|--|--|--|--|--|\n",
    "| Binary | ❌ | ❌ | ✅<sup>2, 🕑</sup>  | ❌ |\n",
    "| BOW | ✅ | ✅<sup>🕑</sup> | ✅<sup>1, 2, 🕑</sup> | ❌ |\n",
    "| TF-IDF | ✅ | ❌ | ✅<sup>🕑</sup> | ✅ |\n",
    "| Okapi BM25 | ✅ | ❌ | ❌ | ❌ |\n",
    "\n",
    "<sup>1</sup> We use non-normalized BOW queries, $L_1$-normalized BOW collection documents, and the non-normalized inner product.  \n",
    "<sup>2</sup> We only use the dense soft VSM.  \n",
    "<sup>🕑</sup> Not yet implemented."
   ]
  },
  {
   "cell_type": "code",
   "execution_count": 106,
   "metadata": {},
   "outputs": [],
   "source": [
    "configurations = [\n",
    "    ('vsm', 'bow', 'inner_product', 32),\n",
    "    ('vsm', 'tfidf', 'inner_product', 32),\n",
    "    ('vsm', 'bm25', 'inner_product', 32),\n",
    "    ('lsi', 'tfidf', 'inner_product', 32),\n",
    "]\n",
    "friendly_names = {\n",
    "    ('vsm', 'bow', 'inner_product', 32): 'BOW (Frakes & Baesa-Yates, 1992)',\n",
    "    ('vsm', 'tfidf', 'inner_product', 32): 'TF-IDF (Jones, 1972)',\n",
    "    ('vsm', 'bm25', 'inner_product', 32): 'Okapi BM25 (Robertson & Walker, 1994)',\n",
    "    ('lsi', 'tfidf', 'inner_product', 32): 'LSI (Deerwester et al., 1990)',\n",
    "}"
   ]
  },
  {
   "cell_type": "markdown",
   "metadata": {},
   "source": [
    "There are several parameters that are tuned by grid search.\n",
    "\n",
    "- Soft VSM:\n",
    "    - `dense`${}\\in\\{$ `True`, `False` $\\}$\n",
    "    - `symmetric`${}\\in\\{$ `True`, `False` $\\}$ (only relevant when `dense` is `False`)\n",
    "    - `positive_definite`${}\\in\\{$ `True`, `False` $\\}$ (only relevant when `dense` is `False`)\n",
    "    - `tfidf`${}\\in\\{$ `<TfidfModel>`, `None` $\\}$ (only relevant when `dense` is `False`)\n",
    "    - `nonzero_limit`${}\\in\\{100, 200, \\ldots, 600\\}$\n",
    "- TFIDF:\n",
    "    - `slope`${}\\in\\{0.0, 0.1, \\ldots, 1.0\\}$\n",
    "- Okapi BM25:\n",
    "    - $k_1\\in\\{1.2, 1.3, \\ldots, 2.0\\}$"
   ]
  },
  {
   "cell_type": "markdown",
   "metadata": {},
   "source": [
    "   \n",
    "### 6.1 Datasets\n"
   ]
  },
  {
   "cell_type": "code",
   "execution_count": 3,
   "metadata": {},
   "outputs": [
    {
     "name": "stderr",
     "output_type": "stream",
     "text": [
      "2019-01-30 22:38:07,147 : INFO : 'pattern' package not found; tag filters are not available for English\n"
     ]
    }
   ],
   "source": [
    "from common import ClassificationResult\n",
    "\n",
    "results = dict()\n",
    "\n",
    "\n",
    "def load_results(name, dataset_loader):\n",
    "    \"\"\"Loads classification results for a given dataset.\n",
    "    \n",
    "    Parameters\n",
    "    ----------\n",
    "    name : str\n",
    "        The name of a dataset.\n",
    "    dataset_loader : callable\n",
    "        Loads training, validation, and test sets from the dataset.\n",
    "    \"\"\"\n",
    "\n",
    "    results[name] = dict()\n",
    "    datasets = None\n",
    "    for configuration in configurations:\n",
    "        basename = '{}-{}'.format(name, '-'.join(map(str, configuration)))\n",
    "        try:\n",
    "            results[name][configuration] = ClassificationResult.from_file(basename)\n",
    "        except IOError:\n",
    "            if datasets is None:\n",
    "                datasets = dataset_loader()\n",
    "            train, validation, test = datasets\n",
    "            result = train.classify(validation, test, *configuration)\n",
    "            result.to_file(basename)\n",
    "            results[name][configuration] = result"
   ]
  },
  {
   "cell_type": "markdown",
   "metadata": {},
   "source": [
    "\n",
    "For classification, we use the following datasets:\n",
    "\n",
    "- [20 Newsgroups][] (1995, 14M, 18.83k documents, *free*)\n",
    "\n",
    " [20 Newsgroups]: http://qwone.com/~jason/20Newsgroups/ (Home Page for 20 Newsgroups Data Set)"
   ]
  },
  {
   "cell_type": "code",
   "execution_count": 4,
   "metadata": {},
   "outputs": [
    {
     "name": "stderr",
     "output_type": "stream",
     "text": [
      "2019-01-30 22:38:07,514 : INFO : Loading a classification result from file results/classification-newsgroups-vsm-bow-inner_product-32.pkl.xz.\n",
      "2019-01-30 22:38:07,520 : INFO : Loading a classification result from file results/classification-newsgroups-vsm-tfidf-inner_product-32.pkl.xz.\n",
      "2019-01-30 22:38:07,521 : INFO : Loading a classification result from file results/classification-newsgroups-vsm-bm25-inner_product-32.pkl.xz.\n",
      "2019-01-30 22:38:07,526 : INFO : Loading a classification result from file results/classification-newsgroups-lsi-tfidf-inner_product-32.pkl.xz.\n"
     ]
    }
   ],
   "source": [
    "from common import load_newsgroups\n",
    "\n",
    "load_results('newsgroups', load_newsgroups)"
   ]
  },
  {
   "cell_type": "markdown",
   "metadata": {},
   "source": [
    "\n",
    "- [AMAZON][] (2015, 20G, 142.8m documents, *free*)\n",
    "    - For computational efficiency, we subsample the dataset using four of the 24 product categories.\n",
    "    - For computational efficiency, we subsample the dataset using only 1 out of every 100 review texts.\n",
    "\n",
    " [AMAZON]: http://jmcauley.ucsd.edu/data/amazon/ (Amazon review data)\n"
   ]
  },
  {
   "cell_type": "code",
   "execution_count": 5,
   "metadata": {},
   "outputs": [],
   "source": [
    "from common import load_amazon\n",
    "\n",
    "# load_results('bbc', load_bbc)  # Not yet computed."
   ]
  },
  {
   "cell_type": "markdown",
   "metadata": {},
   "source": [
    "\n",
    "- [BBC] (2005, 864K, 2.23k documents, *free*)\n",
    "\n",
    " [BBC]: http://mlg.ucd.ie/datasets/bbc.html (Insight - BBC Datasets)"
   ]
  },
  {
   "cell_type": "code",
   "execution_count": 6,
   "metadata": {},
   "outputs": [],
   "source": [
    "from common import load_bbc\n",
    "\n",
    "# load_results('bbc', load_bbc)  # Not yet computed."
   ]
  },
  {
   "cell_type": "markdown",
   "metadata": {},
   "source": [
    "\n",
    "- [BBCSport][BBC] (2005, 255K, 737 documents, *free*)\n",
    "\n",
    " [BBC]: http://mlg.ucd.ie/datasets/bbc.html (Insight - BBC Datasets)"
   ]
  },
  {
   "cell_type": "code",
   "execution_count": 7,
   "metadata": {},
   "outputs": [],
   "source": [
    "from common import load_bbcsport\n",
    "\n",
    "# load_results('bbcsport', load_bbcsport)  # Not yet computed."
   ]
  },
  {
   "cell_type": "markdown",
   "metadata": {},
   "source": [
    "\n",
    "- [OHSUMED][] (1994, 24M, 50.22k documents, *free*)\n",
    "\n",
    " [OHSUMED]: http://disi.unitn.it/moschitti/corpora.htm (Donwloadable Corpora)\n"
   ]
  },
  {
   "cell_type": "code",
   "execution_count": 8,
   "metadata": {},
   "outputs": [],
   "source": [
    "from common import load_ohsumed\n",
    "\n",
    "# load_results('bbcsport', load_ohsumed)  # Not yet computed."
   ]
  },
  {
   "cell_type": "markdown",
   "metadata": {},
   "source": [
    "\n",
    "- [Reuters-21578][] (1987, 8.2M, 215.78k documents, *free*)\n",
    "\n",
    " [Reuters-21578]: http://www.daviddlewis.com/resources/testcollections/reuters21578/ (Reuters-21578 Text Categorization Test Collection)"
   ]
  },
  {
   "cell_type": "code",
   "execution_count": 9,
   "metadata": {},
   "outputs": [],
   "source": [
    "from common import load_reuters\n",
    "\n",
    "# load_results('reuters', load_reuters)  # Not yet computed."
   ]
  },
  {
   "cell_type": "markdown",
   "metadata": {},
   "source": [
    "- [TWITTER][] (2011, 160K, 6.4k documents, *free*)\n",
    "\n",
    " [TWITTER]: https://web.archive.org/web/20180328044709/www.sananalytics.com/lab/twitter-sentiment/ (Sanders Analytics - Twitter Sentiment Corpus)"
   ]
  },
  {
   "cell_type": "code",
   "execution_count": 10,
   "metadata": {},
   "outputs": [],
   "source": [
    "from common import load_twitter\n",
    "\n",
    "# load_results('twitter', load_twitter)  # Not yet computed."
   ]
  },
  {
   "cell_type": "markdown",
   "metadata": {},
   "source": [
    "\n",
    "### 6.3 Classification\n",
    "\n",
    "We compare the individual document representations, term weighing schemes, and similarities using $k$NN on standard datasets. In addition to the above parameters, we also tune $k\\in\\{1,2,\\ldots,19\\}$.\n",
    "\n",
    "## 7. Results\n",
    "\n",
    "TODO (Michal Štefánik).  \n",
    "Useful links:\n",
    "\n",
    "- [Monochrome (Black & white) plots in matplotlib](http://olsgaard.dk/monochrome-black-white-plots-in-matplotlib.html)\n",
    "- [Add confidence interval on barplot](https://python-graph-gallery.com/8-add-confidence-interval-on-barplot/)"
   ]
  },
  {
   "cell_type": "code",
   "execution_count": 11,
   "metadata": {},
   "outputs": [
    {
     "data": {
      "text/plain": [
       "{('vsm',\n",
       "  'bow',\n",
       "  'inner_product',\n",
       "  32): <ClassificationResult, accuracy: 42.19%, params: {'k': 1, 'measure': 'inner_product', 'weights': 'bow', 'num_bits': 32, 'space': 'vsm'}>,\n",
       " ('vsm',\n",
       "  'tfidf',\n",
       "  'inner_product',\n",
       "  32): <ClassificationResult, accuracy: 67.06%, params: {'num_bits': 32, 'k': 17, 'measure': 'inner_product', 'weights': 'tfidf', 'slope': 1.0, 'space': 'vsm'}>,\n",
       " ('vsm',\n",
       "  'bm25',\n",
       "  'inner_product',\n",
       "  32): <ClassificationResult, accuracy: 61.18%, params: {'num_bits': 32, 'k': 1, 'measure': 'inner_product', 'weights': 'bm25', 'k1': 2.0, 'space': 'vsm'}>,\n",
       " ('lsi',\n",
       "  'tfidf',\n",
       "  'inner_product',\n",
       "  32): <ClassificationResult, accuracy: 63.99%, params: {'num_bits': 32, 'k': 1, 'measure': 'inner_product', 'weights': 'tfidf', 'slope': 1.0, 'space': 'lsi'}>}"
      ]
     },
     "execution_count": 11,
     "metadata": {},
     "output_type": "execute_result"
    }
   ],
   "source": [
    "results['newsgroups']"
   ]
  },
  {
   "cell_type": "code",
   "execution_count": 12,
   "metadata": {},
   "outputs": [
    {
     "name": "stdout",
     "output_type": "stream",
     "text": [
      "Help on method accuracy in module common:\n",
      "\n",
      "accuracy(significance_level=0.05) method of common.ClassificationResult instance\n",
      "    Returns pointwise and interval estimates for the accuracy.\n",
      "    \n",
      "    Parameters\n",
      "    ----------\n",
      "    significance_level : scalar\n",
      "        The likelihood that the actual accuracy falls into the\n",
      "        confidence interval.\n",
      "    \n",
      "    Returns\n",
      "    -------\n",
      "    pointwise_estimate : scalar\n",
      "        An unbiased pointwise estimate of the expected value of\n",
      "        the accuracy.\n",
      "    lower_bound : scalar\n",
      "        The lower bound of the confidence interval for the accuracy.\n",
      "    upper_bound : scalar\n",
      "        The upper bound of the confidence interval for the accuracy.\n",
      "\n"
     ]
    }
   ],
   "source": [
    "help(results['newsgroups'][('vsm', 'bow', 'inner_product', 32)].accuracy)"
   ]
  },
  {
   "cell_type": "code",
   "execution_count": 13,
   "metadata": {},
   "outputs": [
    {
     "data": {
      "text/plain": [
       "(0.6706054168879447, 0.6599063054175914, 0.6811305932543966)"
      ]
     },
     "execution_count": 13,
     "metadata": {},
     "output_type": "execute_result"
    }
   ],
   "source": [
    "results['newsgroups'][('vsm', 'tfidf', 'inner_product', 32)].accuracy()"
   ]
  },
  {
   "cell_type": "code",
   "execution_count": 68,
   "metadata": {},
   "outputs": [],
   "source": [
    "results['newsgroups2'] = results['newsgroups']"
   ]
  },
  {
   "cell_type": "code",
   "execution_count": 44,
   "metadata": {},
   "outputs": [],
   "source": [
    "styles = ({'hatch': '///', 'color': 'w', 'zorder': 10},\n",
    "          {'hatch': '--', 'color': 'w', 'zorder': 10},\n",
    "          {'hatch': '...', 'color': 'w', 'zorder': 10},\n",
    "          {'hatch': 'xxx', 'color': 'w', 'zorder': 10})"
   ]
  },
  {
   "cell_type": "code",
   "execution_count": 116,
   "metadata": {},
   "outputs": [],
   "source": [
    "import math"
   ]
  },
  {
   "cell_type": "code",
   "execution_count": 148,
   "metadata": {},
   "outputs": [
    {
     "name": "stdout",
     "output_type": "stream",
     "text": [
      "(0.4108222716479096, 0.4331234898936243)\n",
      "(0.4108222716479096, 0.4331234898936243)\n",
      "(0.6599063054175914, 0.6811305932543966)\n",
      "(0.6599063054175914, 0.6811305932543966)\n",
      "(0.6007292718431021, 0.6227361512555858)\n",
      "(0.6007292718431021, 0.6227361512555858)\n",
      "(0.6290266904725896, 0.6507031859478583)\n",
      "(0.6290266904725896, 0.6507031859478583)\n"
     ]
    },
    {
     "data": {
      "image/png": "[encoded data removed]",
      "text/plain": [
       "<Figure size 432x288 with 1 Axes>"
      ]
     },
     "metadata": {
      "needs_background": "light"
     },
     "output_type": "display_data"
    }
   ],
   "source": [
    "# TODO: segmentation by groups needs to be done as in\n",
    "# https://stackoverflow.com/questions/14270391/python-matplotlib-multiple-bars\n",
    "\n",
    "import matplotlib.pyplot as plt\n",
    "import numpy as np\n",
    "\n",
    "width = 0.3\n",
    "\n",
    "for i, _ in enumerate(ind):\n",
    "    for dataset_i, dataset in enumerate(results.keys()):\n",
    "        ax = plt.subplot(111)\n",
    "\n",
    "        x = [friendly_names[k] for k in results[dataset]]\n",
    "        y = [v.accuracy()[0] for v in results[dataset].values()]\n",
    "        yerr1 = [v.accuracy()[1] for v in results[dataset].values()]\n",
    "        yerr2 = [v.accuracy()[2] for v in results[dataset].values()]\n",
    "\n",
    "        ind = np.arange(len(y))  # the x locations for the groups\n",
    "        print((yerr1[i], yerr2[i]))\n",
    "        plt.bar(ind[i], y[i], width, **styles[i], align='center',\n",
    "                yerr=np.array([[yerr1[i], yerr2[i]-yerr1[i]]]).transpose(), \n",
    "                capsize=10, edgecolor=\"black\", )\n",
    "        ax.set_xticks(ind)\n",
    "        ax.set_xticklabels(x, minor=False, rotation=60)\n",
    "        plt.title(dataset)\n",
    "        plt.ylabel('accuracy')\n",
    "        plt.xlabel('configuration')\n",
    "fig.set_size_inches(10, 5)\n"
   ]
  },
  {
   "cell_type": "code",
   "execution_count": 153,
   "metadata": {},
   "outputs": [
    {
     "data": {
      "text/plain": [
       "{('vsm',\n",
       "  'bow',\n",
       "  'inner_product',\n",
       "  32): <ClassificationResult, accuracy: 42.19%, params: {'k': 1, 'measure': 'inner_product', 'weights': 'bow', 'num_bits': 32, 'space': 'vsm'}>,\n",
       " ('vsm',\n",
       "  'tfidf',\n",
       "  'inner_product',\n",
       "  32): <ClassificationResult, accuracy: 67.06%, params: {'num_bits': 32, 'k': 17, 'measure': 'inner_product', 'weights': 'tfidf', 'slope': 1.0, 'space': 'vsm'}>,\n",
       " ('vsm',\n",
       "  'bm25',\n",
       "  'inner_product',\n",
       "  32): <ClassificationResult, accuracy: 61.18%, params: {'num_bits': 32, 'k': 1, 'measure': 'inner_product', 'weights': 'bm25', 'k1': 2.0, 'space': 'vsm'}>,\n",
       " ('lsi',\n",
       "  'tfidf',\n",
       "  'inner_product',\n",
       "  32): <ClassificationResult, accuracy: 63.99%, params: {'num_bits': 32, 'k': 1, 'measure': 'inner_product', 'weights': 'tfidf', 'slope': 1.0, 'space': 'lsi'}>}"
      ]
     },
     "execution_count": 153,
     "metadata": {},
     "output_type": "execute_result"
    }
   ],
   "source": [
    "results['newsgroups']"
   ]
  },
  {
   "cell_type": "code",
   "execution_count": 194,
   "metadata": {},
   "outputs": [
    {
     "name": "stdout",
     "output_type": "stream",
     "text": [
      "[0. 1.]\n",
      "[0.2 1.2]\n",
      "[0.4 1.4]\n",
      "[0.6 1.6]\n"
     ]
    },
    {
     "data": {
      "image/png": "[encoded data removed]",
      "text/plain": [
       "<Figure size 432x288 with 1 Axes>"
      ]
     },
     "metadata": {
      "needs_background": "light"
     },
     "output_type": "display_data"
    }
   ],
   "source": [
    "barWidth = 0.2\n",
    "offset = 0\n",
    "\n",
    "for m_i, method in enumerate(results['newsgroups'].keys()):\n",
    "    y = [results[dataset][method].accuracy()[0] for dataset in results.keys()]\n",
    "    y_err_lower = [results[dataset][method].accuracy()[1] for dataset in results.keys()]\n",
    "    y_err_upper = [results[dataset][method].accuracy()[2] for dataset in results.keys()]\n",
    "    y_err = np.array(y_err_upper) - np.array(y_err_lower)\n",
    "    \n",
    "    x = np.arange(len(y)) + (offset+(m_i*barWidth))\n",
    "    print(x)\n",
    "    plt.bar(x, y, width = barWidth, **styles[m_i], edgecolor = 'black', \n",
    "            yerr=y_err, capsize=7, label=friendly_names[method])\n",
    "    \n",
    "# general layout\n",
    "# plt.xticks([r + barWidth for r in range(len(bars1))], ['cond_A', 'cond_B', 'cond_C'])\n",
    "plt.ylabel('height')\n",
    "plt.legend(loc='upper right')\n",
    "# plt.figure(figsize=(30,20))\n",
    "\n",
    "plt.xlim(0, 4)  # adjust the right leaving left unchanged\n",
    "\n",
    "plt.ylim(0, 1.2)\n",
    "\n",
    "# Show graphic\n",
    "plt.show()\n"
   ]
  },
  {
   "cell_type": "code",
   "execution_count": 157,
   "metadata": {},
   "outputs": [
    {
     "data": {
      "text/plain": [
       "[0.6399362719065321, 0.6399362719065321]"
      ]
     },
     "execution_count": 157,
     "metadata": {},
     "output_type": "execute_result"
    }
   ],
   "source": [
    "y"
   ]
  },
  {
   "cell_type": "code",
   "execution_count": 149,
   "metadata": {},
   "outputs": [
    {
     "data": {
      "image/png": "[encoded data removed]",
      "text/plain": [
       "<Figure size 432x288 with 1 Axes>"
      ]
     },
     "metadata": {
      "needs_background": "light"
     },
     "output_type": "display_data"
    }
   ],
   "source": [
    "# libraries\n",
    "x = [friendly_names[k] for k in results[dataset]]\n",
    "y = [v.accuracy()[0] for v in results[dataset].values()]\n",
    "yerr1 = [v.accuracy()[1] for v in results[dataset].values()]\n",
    "yerr2 = [v.accuracy()[2] for v in results[dataset].values()]\n",
    " \n",
    "# width of the bars\n",
    "barWidth = 0.3\n",
    "\n",
    "\n",
    "for m_i, method in enumerate(results['newsgroups'].keys()):\n",
    "    y = [results[dataset][m_i][method] for dataset in results.keys()]\n",
    "    \n",
    "# Choose the height of the blue bars\n",
    "bars1 = [10, 9, 2]\n",
    " \n",
    "# Choose the height of the cyan bars\n",
    "bars2 = [10.8, 9.5, 4.5]\n",
    " \n",
    "# Choose the height of the error bars (bars1)\n",
    "yer1 = [0.5, 0.4, 0.5]\n",
    " \n",
    "# Choose the height of the error bars (bars2)\n",
    "yer2 = [1, 0.7, 1]\n",
    " \n",
    "# The x position of bars\n",
    "r1 = np.arange(len(bars1))\n",
    "r2 = [x + barWidth for x in r1]\n",
    " \n",
    "# Create blue bars\n",
    "plt.bar(r1, bars1, width = barWidth, color = 'blue', edgecolor = 'black', yerr=yer1, capsize=7, label='poacee')\n",
    " \n",
    "# Create cyan bars\n",
    "plt.bar(r2, bars2, width = barWidth, color = 'cyan', edgecolor = 'black', yerr=yer2, capsize=7, label='sorgho')\n",
    " \n",
    "# general layout\n",
    "plt.xticks([r + barWidth for r in range(len(bars1))], ['cond_A', 'cond_B', 'cond_C'])\n",
    "plt.ylabel('height')\n",
    "plt.legend()\n",
    " \n",
    "# Show graphic\n",
    "plt.show()\n"
   ]
  }
 ],
 "metadata": {
  "kernelspec": {
   "display_name": "Python 3",
   "language": "python",
   "name": "python3"
  },
  "language_info": {
   "codemirror_mode": {
    "name": "ipython",
    "version": 3
   },
   "file_extension": ".py",
   "mimetype": "text/x-python",
   "name": "python",
   "nbconvert_exporter": "python",
   "pygments_lexer": "ipython3",
   "version": "3.6.8"
  }
 },
 "nbformat": 4,
 "nbformat_minor": 2
}
