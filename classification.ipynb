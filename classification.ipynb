{
 "cells": [
  {
   "cell_type": "code",
   "execution_count": 1,
   "metadata": {},
   "outputs": [],
   "source": [
    "import logging\n",
    "\n",
    "logging.basicConfig(format='%(asctime)s : %(levelname)s : %(message)s', level=logging.INFO)"
   ]
  },
  {
   "cell_type": "markdown",
   "metadata": {},
   "source": [
    "# Regularized Word Embeddings in Text Classification and in Ad-hoc IR\n",
    "## 4. Document Representations\n",
    "\n",
    "We consider three document representations:\n",
    "\n",
    "- Vector Space Model (VSM)\n",
    "- Soft Vector Space Model (Soft VSM)\n",
    "- Latent Semantic Indexing (LSI)\n",
    "\n",
    "We consider four term weighting schemes:\n",
    "\n",
    "- Binary\n",
    "- Bag of Words (BOW)\n",
    "- TF-IDF\n",
    "- Okapi BM25\n",
    "\n",
    "And we consider two similarities:\n",
    "\n",
    "- Inner Product (IP)\n",
    "- Relaxed Word Mover's Distance (RWMD)\n",
    "\n",
    "## 6. Evaluation\n",
    "\n",
    "Not all combinations of document representations, term weighting schemes, and similarities are evaluated:\n",
    "\n",
    "| ↓ Weights, Space and similarity → | VSM IP | VSM WMD | Soft VSM IP | LSI IP |\n",
    "|--|--|--|--|--|\n",
    "| Binary | ❌ | ❌ | ✅<sup>2</sup>  | ❌ |\n",
    "| BOW | ✅ | ✅ | ✅<sup>1, 2</sup> | ❌ |\n",
    "| TF-IDF | ✅ | ❌ | ✅ | ✅ |\n",
    "| Okapi BM25 | ✅ | ❌ | ❌ | ❌ |\n",
    "\n",
    "<sup>1</sup> We use non-normalized BOW queries, $L_1$-normalized BOW collection documents, and $L_1$-normalized inner product.  \n",
    "<sup>2</sup> We only use the dense soft VSM. "
   ]
  },
  {
   "cell_type": "code",
   "execution_count": 2,
   "metadata": {},
   "outputs": [],
   "source": [
    "configurations = [\n",
    "    # ('random', 'random', 'random', 'random'),\n",
    "    ('dense_soft_vsm', 'tfidf', 'inner_product', 32),\n",
    "    ('dense_soft_vsm', 'tfidf', 'inner_product', 1),\n",
    "    ('vsm', 'bow', 'inner_product', 32),\n",
    "    ('vsm', 'bm25', 'inner_product', 32),\n",
    "    ('lsi', 'tfidf', 'inner_product', 32),\n",
    "    # ('vsm', 'tfidf', 'inner_product', 32),\n",
    "    # ('dense_soft_vsm', 'binary', 'inner_product', 32),\n",
    "    # ('dense_soft_vsm', 'binary', 'inner_product', 1),\n",
    "    # ('dense_soft_vsm', 'bow', 'inner_product', 32),\n",
    "    # ('dense_soft_vsm', 'bow', 'inner_product', 1),\n",
    "    # ('vsm', 'bow', 'wmd', 1),\n",
    "    ('sparse_soft_vsm', 'tfidf', 'inner_product', 32),\n",
    "    ('sparse_soft_vsm', 'tfidf', 'inner_product', 1),\n",
    "    ('vsm', 'bow', 'wmd', 32),\n",
    "]\n",
    "configuration_names = {\n",
    "    ('random', 'random', 'random', 'random'): 'Random',\n",
    "    ('vsm', 'bow', 'inner_product', 32): 'BoW',\n",
    "    ('vsm', 'tfidf', 'inner_product', 32): 'TF-IDF',\n",
    "    ('vsm', 'bm25', 'inner_product', 32): 'Okapi BM25',\n",
    "    ('lsi', 'tfidf', 'inner_product', 32): 'LSI',\n",
    "    ('dense_soft_vsm', 'tfidf', 'inner_product', 32): 'Dense SCM (32b)',\n",
    "    ('dense_soft_vsm', 'tfidf', 'inner_product', 1): 'Dense SCM (1b)',\n",
    "    ('dense_soft_vsm', 'bow', 'inner_product', 32): 'NTLM (32b)',\n",
    "    ('dense_soft_vsm', 'bow', 'inner_product', 1): 'NTLM (1b)',\n",
    "    ('dense_soft_vsm', 'binary', 'inner_product', 32): 'Query Expansion (32b)',\n",
    "    ('dense_soft_vsm', 'binary', 'inner_product', 1): 'Query Expansion (1b)',\n",
    "    ('vsm', 'bow', 'wmd', 32): 'WMD (32b)',\n",
    "    ('vsm', 'bow', 'wmd', 1): 'WMD (1b)',\n",
    "    ('sparse_soft_vsm', 'tfidf', 'inner_product', 32): 'Sparse SCM (32b)',\n",
    "    ('sparse_soft_vsm', 'tfidf', 'inner_product', 1): 'Sparse SCM (1b)',\n",
    "}"
   ]
  },
  {
   "cell_type": "markdown",
   "metadata": {},
   "source": [
    "There are several parameters that are tuned by grid search.\n",
    "\n",
    "- Soft VSM (sparse):\n",
    "    - `symmetric`${}\\in\\{$ `True`, `False` $\\}$\n",
    "    - `positive_definite`${}\\in\\{$ `True`, `False` $\\}$\n",
    "    - `tfidf`${}\\in\\{$ `<TfidfModel>`, `None` $\\}$\n",
    "    - `nonzero_limit`${}\\in\\{100, 200, \\ldots, 600\\}$\n",
    "- TFIDF:\n",
    "    - `slope`${}\\in\\{0.0, 0.1, \\ldots, 1.0\\}$\n",
    "- Okapi BM25:\n",
    "    - $k_1\\in\\{1.2, 1.3, \\ldots, 2.0\\}$"
   ]
  },
  {
   "cell_type": "markdown",
   "metadata": {},
   "source": [
    "   \n",
    "### 6.1 Datasets\n"
   ]
  },
  {
   "cell_type": "code",
   "execution_count": 3,
   "metadata": {},
   "outputs": [
    {
     "name": "stderr",
     "output_type": "stream",
     "text": [
      "2019-02-14 14:16:56,778 : INFO : 'pattern' package not found; tag filters are not available for English\n"
     ]
    }
   ],
   "source": [
    "from math import sqrt\n",
    "\n",
    "from common import ClassificationResult, KusnerEtAlClassificationResult\n",
    "\n",
    "dataset_names = []\n",
    "results = dict()\n",
    "\n",
    "def load_results(name, dataset_loader, test_error_height, error_bar_height):\n",
    "    \"\"\"Loads classification results for a given dataset.\n",
    "    \n",
    "    Parameters\n",
    "    ----------\n",
    "    name : str\n",
    "        The name of a dataset.\n",
    "    dataset_loader : callable\n",
    "        Loads training, validation, and test sets from the dataset.\n",
    "    test_error_height : scalar\n",
    "        The height in pixels of a reported test error in Figure 3 of Kusner et al. (2015).\n",
    "    error_bar_height : scalar\n",
    "        The height in pixels of a reported error bar in Figure 3 of Kusner et al. (2015).\n",
    "    \"\"\"\n",
    "\n",
    "    dataset_names.append(name)\n",
    "    results[name] = dict()\n",
    "    datasets = None\n",
    "    for configuration in configurations:\n",
    "        if configuration == ('vsm', 'bow', 'wmd', 32):\n",
    "            result = KusnerEtAlClassificationResult(test_error_height, error_bar_height)\n",
    "        else:\n",
    "            basename = '{}-{}'.format(name, '-'.join(map(str, configuration)))\n",
    "            try:\n",
    "                result = ClassificationResult.from_file(basename)\n",
    "            except IOError:\n",
    "                if datasets is None:\n",
    "                    datasets = dataset_loader()\n",
    "                train, validation, test = datasets\n",
    "                result = train.classify(validation, test, *configuration)\n",
    "                result.to_file(basename)\n",
    "        results[name][configuration] = result"
   ]
  },
  {
   "cell_type": "markdown",
   "metadata": {},
   "source": [
    "For classification, we use the following datasets:"
   ]
  },
  {
   "cell_type": "markdown",
   "metadata": {},
   "source": [
    "\n",
    "- [BBCSport][BBC] (2005, 255K, 737 documents subsampled to 517, *free*)\n",
    "\n",
    " [BBC]: http://mlg.ucd.ie/datasets/bbc.html (Insight - BBC Datasets)"
   ]
  },
  {
   "cell_type": "code",
   "execution_count": 4,
   "metadata": {},
   "outputs": [
    {
     "name": "stderr",
     "output_type": "stream",
     "text": [
      "2019-02-14 14:16:57,052 : INFO : Loading a classification result from file results/classification-bbcsport-dense_soft_vsm-tfidf-inner_product-32.pkl.xz.\n",
      "2019-02-14 14:16:57,054 : INFO : Loading a classification result from file results/classification-bbcsport-dense_soft_vsm-tfidf-inner_product-1.pkl.xz.\n",
      "2019-02-14 14:16:57,056 : INFO : Loading a classification result from file results/classification-bbcsport-vsm-bow-inner_product-32.pkl.xz.\n",
      "2019-02-14 14:16:57,058 : INFO : Loading a classification result from file results/classification-bbcsport-vsm-bm25-inner_product-32.pkl.xz.\n",
      "2019-02-14 14:16:57,060 : INFO : Loading a classification result from file results/classification-bbcsport-lsi-tfidf-inner_product-32.pkl.xz.\n",
      "2019-02-14 14:16:57,062 : INFO : Loading a classification result from file results/classification-bbcsport-sparse_soft_vsm-tfidf-inner_product-32.pkl.xz.\n",
      "2019-02-14 14:16:57,063 : INFO : Loading a classification result from file results/classification-bbcsport-sparse_soft_vsm-tfidf-inner_product-1.pkl.xz.\n"
     ]
    }
   ],
   "source": [
    "from common import load_bbcsport\n",
    "\n",
    "load_results('bbcsport', load_bbcsport, 8.1537210257, 3.7399280445)"
   ]
  },
  {
   "cell_type": "markdown",
   "metadata": {},
   "source": [
    "- [TWITTER][] (2011, 160K, 6.4k documents subsampled to 2,176, *free*)\n",
    "\n",
    " [TWITTER]: https://web.archive.org/web/20180328044709/www.sananalytics.com/lab/twitter-sentiment/ (Sanders Analytics - Twitter Sentiment Corpus)"
   ]
  },
  {
   "cell_type": "code",
   "execution_count": 5,
   "metadata": {},
   "outputs": [
    {
     "name": "stderr",
     "output_type": "stream",
     "text": [
      "2019-02-14 14:16:57,101 : INFO : Loading a classification result from file results/classification-twitter-dense_soft_vsm-tfidf-inner_product-32.pkl.xz.\n",
      "2019-02-14 14:16:57,103 : INFO : Loading a classification result from file results/classification-twitter-dense_soft_vsm-tfidf-inner_product-1.pkl.xz.\n",
      "2019-02-14 14:16:57,105 : INFO : Loading a classification result from file results/classification-twitter-vsm-bow-inner_product-32.pkl.xz.\n",
      "2019-02-14 14:16:57,107 : INFO : Loading a classification result from file results/classification-twitter-vsm-bm25-inner_product-32.pkl.xz.\n",
      "2019-02-14 14:16:57,110 : INFO : Loading a classification result from file results/classification-twitter-lsi-tfidf-inner_product-32.pkl.xz.\n",
      "2019-02-14 14:16:57,114 : INFO : Loading a classification result from file results/classification-twitter-sparse_soft_vsm-tfidf-inner_product-32.pkl.xz.\n",
      "2019-02-14 14:16:57,116 : INFO : Loading a classification result from file results/classification-twitter-sparse_soft_vsm-tfidf-inner_product-1.pkl.xz.\n"
     ]
    }
   ],
   "source": [
    "from common import load_twitter\n",
    "\n",
    "load_results('twitter', load_twitter, 50.1493982864, 3.29247)"
   ]
  },
  {
   "cell_type": "markdown",
   "metadata": {},
   "source": [
    "\n",
    "- [BBC] (2005, 864K, 2.23k documents, *free*)\n",
    "\n",
    " [BBC]: http://mlg.ucd.ie/datasets/bbc.html (Insight - BBC Datasets)"
   ]
  },
  {
   "cell_type": "code",
   "execution_count": 6,
   "metadata": {},
   "outputs": [],
   "source": [
    "from common import load_bbc\n",
    "\n",
    "# load_results('bbc', load_bbc)"
   ]
  },
  {
   "cell_type": "markdown",
   "metadata": {},
   "source": [
    "\n",
    "- [OHSUMED][] (1994, 24M, 50.22k documents subsampled to 3,999, *free*)\n",
    "\n",
    " [OHSUMED]: http://disi.unitn.it/moschitti/corpora.htm (Donwloadable Corpora)\n"
   ]
  },
  {
   "cell_type": "code",
   "execution_count": 7,
   "metadata": {},
   "outputs": [
    {
     "name": "stderr",
     "output_type": "stream",
     "text": [
      "2019-02-14 14:16:57,170 : INFO : Loading a classification result from file results/classification-ohsumed-dense_soft_vsm-tfidf-inner_product-32.pkl.xz.\n",
      "2019-02-14 14:16:57,174 : INFO : Loading a classification result from file results/classification-ohsumed-dense_soft_vsm-tfidf-inner_product-1.pkl.xz.\n",
      "2019-02-14 14:16:57,176 : INFO : Loading a classification result from file results/classification-ohsumed-vsm-bow-inner_product-32.pkl.xz.\n",
      "2019-02-14 14:16:57,178 : INFO : Loading a classification result from file results/classification-ohsumed-vsm-bm25-inner_product-32.pkl.xz.\n",
      "2019-02-14 14:16:57,180 : INFO : Loading a classification result from file results/classification-ohsumed-lsi-tfidf-inner_product-32.pkl.xz.\n",
      "2019-02-14 14:16:57,182 : INFO : Loading a classification result from file results/classification-ohsumed-sparse_soft_vsm-tfidf-inner_product-32.pkl.xz.\n",
      "2019-02-14 14:16:57,184 : INFO : Loading a classification result from file results/classification-ohsumed-sparse_soft_vsm-tfidf-inner_product-1.pkl.xz.\n"
     ]
    }
   ],
   "source": [
    "from common import load_ohsumed\n",
    "\n",
    "load_results('ohsumed', load_ohsumed, 77.7931252118, 1.34765)"
   ]
  },
  {
   "cell_type": "markdown",
   "metadata": {},
   "source": [
    "\n",
    "- [Reuters-21578][] (1987, 8.2M, 215.78k documents subsampled to 5,485, *free*)\n",
    "\n",
    " [Reuters-21578]: http://www.daviddlewis.com/resources/testcollections/reuters21578/ (Reuters-21578 Text Categorization Test Collection)"
   ]
  },
  {
   "cell_type": "code",
   "execution_count": 8,
   "metadata": {},
   "outputs": [
    {
     "name": "stderr",
     "output_type": "stream",
     "text": [
      "2019-02-14 14:16:57,202 : INFO : Loading a classification result from file results/classification-reuters-dense_soft_vsm-tfidf-inner_product-32.pkl.xz.\n",
      "2019-02-14 14:16:57,210 : INFO : Loading a classification result from file results/classification-reuters-dense_soft_vsm-tfidf-inner_product-1.pkl.xz.\n",
      "2019-02-14 14:16:57,218 : INFO : Loading a classification result from file results/classification-reuters-vsm-bow-inner_product-32.pkl.xz.\n",
      "2019-02-14 14:16:57,222 : INFO : Loading a classification result from file results/classification-reuters-vsm-bm25-inner_product-32.pkl.xz.\n",
      "2019-02-14 14:16:57,226 : INFO : Loading a classification result from file results/classification-reuters-lsi-tfidf-inner_product-32.pkl.xz.\n",
      "2019-02-14 14:16:57,228 : INFO : Loading a classification result from file results/classification-reuters-sparse_soft_vsm-tfidf-inner_product-32.pkl.xz.\n",
      "2019-02-14 14:16:57,232 : INFO : Loading a classification result from file results/classification-reuters-sparse_soft_vsm-tfidf-inner_product-1.pkl.xz.\n"
     ]
    }
   ],
   "source": [
    "from common import load_reuters\n",
    "\n",
    "load_results('reuters', load_reuters, 6.1989037917, 1.32812)"
   ]
  },
  {
   "cell_type": "markdown",
   "metadata": {},
   "source": [
    "\n",
    "- [AMAZON][] (2015, 20G, 142.8m documents subsampled to 5,600, *free*)\n",
    "\n",
    " [AMAZON]: http://jmcauley.ucsd.edu/data/amazon/ (Amazon review data)\n"
   ]
  },
  {
   "cell_type": "code",
   "execution_count": 9,
   "metadata": {},
   "outputs": [
    {
     "name": "stderr",
     "output_type": "stream",
     "text": [
      "2019-02-14 14:16:57,244 : INFO : Loading a classification result from file results/classification-amazon-dense_soft_vsm-tfidf-inner_product-32.pkl.xz.\n",
      "2019-02-14 14:16:57,247 : INFO : Loading a classification result from file results/classification-amazon-dense_soft_vsm-tfidf-inner_product-1.pkl.xz.\n",
      "2019-02-14 14:16:57,251 : INFO : Loading a classification result from file results/classification-amazon-vsm-bow-inner_product-32.pkl.xz.\n",
      "2019-02-14 14:16:57,258 : INFO : Loading a classification result from file results/classification-amazon-vsm-bm25-inner_product-32.pkl.xz.\n",
      "2019-02-14 14:16:57,260 : INFO : Loading a classification result from file results/classification-amazon-lsi-tfidf-inner_product-32.pkl.xz.\n",
      "2019-02-14 14:16:57,261 : INFO : Loading a classification result from file results/classification-amazon-sparse_soft_vsm-tfidf-inner_product-32.pkl.xz.\n",
      "2019-02-14 14:16:57,262 : INFO : Loading a classification result from file results/classification-amazon-sparse_soft_vsm-tfidf-inner_product-1.pkl.xz.\n"
     ]
    }
   ],
   "source": [
    "from common import load_amazon\n",
    "\n",
    "load_results('amazon', load_amazon, 13.0123213547, 2.2318)"
   ]
  },
  {
   "cell_type": "markdown",
   "metadata": {},
   "source": [
    "\n",
    "- [20 Newsgroups][] (1995, 14M, 18.83k documents subsampled to 11,293, *free*)\n",
    "\n",
    " [20 Newsgroups]: http://qwone.com/~jason/20Newsgroups/ (Home Page for 20 Newsgroups Data Set)"
   ]
  },
  {
   "cell_type": "code",
   "execution_count": 10,
   "metadata": {},
   "outputs": [
    {
     "name": "stderr",
     "output_type": "stream",
     "text": [
      "2019-02-14 14:16:57,298 : INFO : Loading a classification result from file results/classification-20news-dense_soft_vsm-tfidf-inner_product-32.pkl.xz.\n",
      "2019-02-14 14:16:57,299 : INFO : Loading a classification result from file results/classification-20news-dense_soft_vsm-tfidf-inner_product-1.pkl.xz.\n",
      "2019-02-14 14:16:57,300 : INFO : Loading a classification result from file results/classification-20news-vsm-bow-inner_product-32.pkl.xz.\n",
      "2019-02-14 14:16:57,302 : INFO : Loading a classification result from file results/classification-20news-vsm-bm25-inner_product-32.pkl.xz.\n",
      "2019-02-14 14:16:57,303 : INFO : Loading a classification result from file results/classification-20news-lsi-tfidf-inner_product-32.pkl.xz.\n",
      "2019-02-14 14:16:57,305 : INFO : Loading a classification result from file results/classification-20news-sparse_soft_vsm-tfidf-inner_product-32.pkl.xz.\n",
      "2019-02-14 14:16:57,306 : INFO : Loading a classification result from file results/classification-20news-sparse_soft_vsm-tfidf-inner_product-1.pkl.xz.\n"
     ]
    }
   ],
   "source": [
    "from common import load_20news\n",
    "\n",
    "load_results('20news', load_20news, 46.8542690888, 1.34239)"
   ]
  },
  {
   "cell_type": "markdown",
   "metadata": {},
   "source": [
    "\n",
    "### 6.3 Classification\n",
    "\n",
    "We compare the individual document representations, term weighing schemes, and similarities using $k$NN on standard datasets. In addition to the above parameters, we also tune $k\\in\\{1,2,\\ldots,19\\}$.\n",
    "\n",
    "## 7. Results\n",
    " \n",
    "Useful links:\n",
    "\n",
    "- [Monochrome (Black & white) plots in matplotlib](http://olsgaard.dk/monochrome-black-white-plots-in-matplotlib.html)\n",
    "- [Add confidence interval on barplot](https://python-graph-gallery.com/8-add-confidence-interval-on-barplot/)"
   ]
  },
  {
   "cell_type": "code",
   "execution_count": 11,
   "metadata": {},
   "outputs": [
    {
     "name": "stdout",
     "output_type": "stream",
     "text": [
      "make: „figures“ je aktuální.\r\n"
     ]
    }
   ],
   "source": [
    "!make figures"
   ]
  },
  {
   "cell_type": "code",
   "execution_count": 12,
   "metadata": {},
   "outputs": [
    {
     "data": {
      "image/png": "[encoded data removed]",
      "text/plain": [
       "<Figure size 1512x720 with 1 Axes>"
      ]
     },
     "metadata": {},
     "output_type": "display_data"
    }
   ],
   "source": [
    "%matplotlib inline\n",
    "\n",
    "from itertools import chain, cycle\n",
    "\n",
    "import numpy as np\n",
    "import matplotlib.pyplot as plt\n",
    "from matplotlib import rcParams\n",
    "\n",
    "\n",
    "def flip(items, ncol):\n",
    "    return chain(*[items[i::ncol] for i in range(ncol)])\n",
    "\n",
    "num_bars = len(configurations)\n",
    "num_datasets = len(dataset_names)\n",
    "bar_width = 1.0 / (num_bars + 2)\n",
    "bar_ys, bar_yerrs_lower, bar_yerrs_upper = list(zip(*map(lambda x: zip(*x), (\n",
    "    (\n",
    "        (\n",
    "            100 * (1.0 - results[name][configuration].accuracy()[0]),\n",
    "            100 * (results[name][configuration].accuracy()[2] - results[name][configuration].accuracy()[0]),\n",
    "            100 * (results[name][configuration].accuracy()[0] - results[name][configuration].accuracy()[1]),\n",
    "        )\n",
    "        for name in dataset_names\n",
    "    )\n",
    "    for configuration in configurations\n",
    "))))\n",
    "bar_xs = [\n",
    "    np.arange(num_datasets) + bar_width * (bar_number - 0.5 * (num_bars - 1))\n",
    "    for bar_number in range(num_bars)\n",
    "]\n",
    "hatches = (' ', '///', '...', 'xxx', '\\\\\\\\\\\\', '**', 'xx', '.', '*', 'o', 'O')\n",
    "\n",
    "# rcParams['font.size'] = 9\n",
    "# rcParams['font.family'] = 'serif'\n",
    "# rcParams['font.serif'] = ['Times New Roman', 'TeX Gyre Termes']\n",
    "plt.style.use('fivethirtyeight')\n",
    "\n",
    "# fig = plt.figure(figsize=(7, 4))\n",
    "fig = plt.figure(figsize=(21, 10))\n",
    "ax = fig.add_subplot(111)\n",
    "for x, y, yerr_lower, yerr_upper, label, hatch in zip(\n",
    "            bar_xs,\n",
    "            bar_ys,\n",
    "            bar_yerrs_lower,\n",
    "            bar_yerrs_upper,\n",
    "            map(lambda x: configuration_names[x], configurations),\n",
    "            cycle(hatches),\n",
    "        ):\n",
    "    yerr = (yerr_lower, yerr_upper)\n",
    "    # plt.bar(x, y, width=bar_width, edgecolor='black', color='w', yerr=yerr, hatch=hatch, capsize=0, label=label)\n",
    "    plt.bar(x, y, width=bar_width, edgecolor='black', yerr=yerr, capsize=0, label=label)\n",
    "\n",
    "handles, labels = ax.get_legend_handles_labels()\n",
    "ncol = 3\n",
    "plt.legend(flip(handles, ncol), flip(labels, ncol), loc='best', ncol=ncol)\n",
    "\n",
    "plt.xticks(bar_xs[num_bars // 2] - 0.5 * bar_width, dataset_names)\n",
    "plt.minorticks_on()\n",
    "plt.ylabel('test error %')\n",
    "plt.xlim((-0.5 * (num_bars + 2) * bar_width, num_datasets - 1 + 0.5 * (num_bars + 2) * bar_width))\n",
    "plt.grid(axis='y', which='major', color='k', alpha=0.5)\n",
    "plt.grid(axis='y', which='minor', color='k', alpha=0.25)\n",
    "plt.tight_layout()\n",
    "plt.savefig('figures/classification-test_error.pdf')\n",
    "plt.show()"
   ]
  },
  {
   "cell_type": "code",
   "execution_count": 14,
   "metadata": {},
   "outputs": [
    {
     "data": {
      "image/png": "[encoded data removed]",
      "text/plain": [
       "<Figure size 720x720 with 1 Axes>"
      ]
     },
     "metadata": {
      "needs_background": "light"
     },
     "output_type": "display_data"
    }
   ],
   "source": [
    "bar_ys = list(map(lambda x: sum(x) / len(x), bar_ys))\n",
    "bar_yerrs_lower = list(map(lambda x: sum(x) / len(x), bar_yerrs_lower))\n",
    "bar_yerrs_upper = list(map(lambda x: sum(x) / len(x), bar_yerrs_upper))\n",
    "\n",
    "baseline_configuration = ('vsm', 'bow', 'inner_product', 32)\n",
    "baseline_configuration_index = configurations.index(baseline_configuration)\n",
    "baseline_y = bar_ys[baseline_configuration_index]\n",
    "\n",
    "bar_ys = list(map(lambda x: (x / baseline_y, ), bar_ys))\n",
    "bar_yerrs_lower = list(map(lambda x: (x / baseline_y, ), bar_yerrs_lower))\n",
    "bar_yerrs_upper = list(map(lambda x: (x / baseline_y, ), bar_yerrs_upper))\n",
    "bar_yerrs_lower[baseline_configuration_index] = (0.0, )\n",
    "bar_yerrs_upper[baseline_configuration_index] = (0.0, )\n",
    "bar_xs = [\n",
    "    bar_width * (bar_number - 0.5 * (num_bars - 1))\n",
    "    for bar_number in range(num_bars)\n",
    "]\n",
    "\n",
    "# fig = plt.figure(figsize=(3, 4))\n",
    "fig = plt.figure(figsize=(10, 10))\n",
    "ax = fig.add_subplot(111)\n",
    "for x, y, yerr_lower, yerr_upper, label, hatch in zip(\n",
    "            bar_xs,\n",
    "            bar_ys,\n",
    "            bar_yerrs_lower,\n",
    "            bar_yerrs_upper,\n",
    "            map(lambda x: configuration_names[x], configurations),\n",
    "            cycle(hatches),\n",
    "        ):\n",
    "    yerr = (yerr_lower, yerr_upper)\n",
    "    # plt.bar(x, y, width=bar_width, edgecolor='black', color='w', yerr=yerr, hatch=hatch, capsize=0, label=label)\n",
    "    plt.bar(x, y, width=bar_width, edgecolor='black', yerr=yerr, capsize=0, label=label)\n",
    "\n",
    "handles, labels = ax.get_legend_handles_labels()\n",
    "ncol = 3\n",
    "plt.legend(flip(handles, ncol), flip(labels, ncol), loc='best', ncol=ncol)\n",
    "\n",
    "plt.xticks((), ())\n",
    "plt.minorticks_on()\n",
    "plt.ylabel('average error w.r.t. BoW')\n",
    "plt.xlim((-0.5 * (num_bars + 2) * bar_width, 0.5 * (num_bars + 2) * bar_width))\n",
    "plt.ylim((0.0, 1.4))\n",
    "plt.grid(axis='y', which='major', color='k', alpha=0.5)\n",
    "plt.grid(axis='y', which='minor', color='k', alpha=0.25)\n",
    "plt.tight_layout()\n",
    "plt.savefig('figures/classification-avg_test_error_ratio.pdf')\n",
    "plt.show()"
   ]
  }
 ],
 "metadata": {
  "kernelspec": {
   "display_name": "Python 3",
   "language": "python",
   "name": "python3"
  },
  "language_info": {
   "codemirror_mode": {
    "name": "ipython",
    "version": 3
   },
   "file_extension": ".py",
   "mimetype": "text/x-python",
   "name": "python",
   "nbconvert_exporter": "python",
   "pygments_lexer": "ipython3",
   "version": "3.5.3"
  }
 },
 "nbformat": 4,
 "nbformat_minor": 2
}
