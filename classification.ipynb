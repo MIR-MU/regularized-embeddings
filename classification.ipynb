{
 "cells": [
  {
   "cell_type": "code",
   "execution_count": 1,
   "metadata": {},
   "outputs": [],
   "source": [
    "import logging\n",
    "\n",
    "logging.basicConfig(format='%(asctime)s : %(levelname)s : %(message)s', level=logging.INFO)"
   ]
  },
  {
   "cell_type": "markdown",
   "metadata": {},
   "source": [
    "# Regularized Word Embeddings in Text Classification and in Ad-hoc IR\n",
    "## 4. Document Representations\n",
    "\n",
    "We consider three document representations:\n",
    "\n",
    "- Vector Space Model (VSM)\n",
    "- Soft Vector Space Model (Soft VSM)\n",
    "- Latent Semantic Indexing (LSI)\n",
    "\n",
    "We consider four term weighting schemes:\n",
    "\n",
    "- Binary\n",
    "- Bag of Words (BOW)\n",
    "- TF-IDF\n",
    "- Okapi BM25\n",
    "\n",
    "And we consider two similarities:\n",
    "\n",
    "- Inner Product (IP)\n",
    "- Relaxed Word Mover's Distance (RWMD)\n",
    "\n",
    "## 6. Evaluation\n",
    "\n",
    "Not all combinations of document representations, term weighting schemes, and similarities are evaluated:\n",
    "\n",
    "| ↓ Weights, Space and similarity → | VSM IP | VSM WMD | Soft VSM IP | LSI IP |\n",
    "|--|--|--|--|--|\n",
    "| Binary | ❌ | ❌ | ✅<sup>2</sup>  | ❌ |\n",
    "| BOW | ✅ | ✅ | ✅<sup>1, 2</sup> | ❌ |\n",
    "| TF-IDF | ✅ | ❌ | ✅ | ✅ |\n",
    "| Okapi BM25 | ✅ | ❌ | ❌ | ❌ |\n",
    "\n",
    "<sup>1</sup> We use non-normalized BOW queries, $L_1$-normalized BOW collection documents, and $L_1$-normalized inner product.  \n",
    "<sup>2</sup> We only use the dense soft VSM. "
   ]
  },
  {
   "cell_type": "code",
   "execution_count": 2,
   "metadata": {},
   "outputs": [],
   "source": [
    "configurations = [\n",
    "    ('random', 'random', 'random', 'random'),\n",
    "    ('vsm', 'bm25', 'inner_product', 32),\n",
    "    ('vsm', 'tfidf', 'inner_product', 32),\n",
    "    ('vsm', 'bow', 'inner_product', 32),\n",
    "    ('lsi', 'tfidf', 'inner_product', 32),\n",
    "    ('dense_soft_vsm', 'binary', 'inner_product', 32),\n",
    "    ('dense_soft_vsm', 'binary', 'inner_product', 1),\n",
    "    ('dense_soft_vsm', 'bow', 'inner_product', 32),\n",
    "    ('dense_soft_vsm', 'bow', 'inner_product', 1),\n",
    "    ('dense_soft_vsm', 'tfidf', 'inner_product', 32),\n",
    "    ('dense_soft_vsm', 'tfidf', 'inner_product', 1),\n",
    "#    ('sparse_soft_vsm', 'tfidf', 'inner_product', 32),\n",
    "#    ('sparse_soft_vsm', 'tfidf', 'inner_product', 1),\n",
    "#    ('vsm', 'bow', 'wmd', 32),\n",
    "#    ('vsm', 'bow', 'wmd', 1),\n",
    "]\n",
    "configuration_names = {\n",
    "    ('random', 'random', 'random', 'random'): 'Random',\n",
    "    ('vsm', 'bow', 'inner_product', 32): 'BOW',\n",
    "    ('vsm', 'tfidf', 'inner_product', 32): 'TF-IDF',\n",
    "    ('vsm', 'bm25', 'inner_product', 32): 'Okapi BM25',\n",
    "    ('lsi', 'tfidf', 'inner_product', 32): 'LSI',\n",
    "    ('dense_soft_vsm', 'tfidf', 'inner_product', 32): 'Dense SCM (32b)',\n",
    "    ('dense_soft_vsm', 'tfidf', 'inner_product', 1): 'Dense SCM (1b)',\n",
    "    ('dense_soft_vsm', 'bow', 'inner_product', 32): 'NTLM (32b)',\n",
    "    ('dense_soft_vsm', 'bow', 'inner_product', 1): 'NTLM (1b)',\n",
    "    ('dense_soft_vsm', 'binary', 'inner_product', 32): 'Query Expansion (32b)',\n",
    "    ('dense_soft_vsm', 'binary', 'inner_product', 1): 'Query Expansion (1b)',\n",
    "    ('sparse_soft_vsm', 'tfidf', 'inner_product', 32): 'Sparse SCM (32b)',\n",
    "    ('sparse_soft_vsm', 'tfidf', 'inner_product', 1): 'Sparse SCM (1b)',\n",
    "    ('vsm', 'bow', 'wmd', 32): 'RWMD (32b)',\n",
    "    ('vsm', 'bow', 'wmd', 1): 'RWMD (1b)',\n",
    "}"
   ]
  },
  {
   "cell_type": "markdown",
   "metadata": {},
   "source": [
    "There are several parameters that are tuned by grid search.\n",
    "\n",
    "- Soft VSM (sparse):\n",
    "    - `symmetric`${}\\in\\{$ `True`, `False` $\\}$\n",
    "    - `positive_definite`${}\\in\\{$ `True`, `False` $\\}$\n",
    "    - `tfidf`${}\\in\\{$ `<TfidfModel>`, `None` $\\}$\n",
    "    - `nonzero_limit`${}\\in\\{100, 200, \\ldots, 600\\}$\n",
    "- TFIDF:\n",
    "    - `slope`${}\\in\\{0.0, 0.1, \\ldots, 1.0\\}$\n",
    "- Okapi BM25:\n",
    "    - $k_1\\in\\{1.2, 1.3, \\ldots, 2.0\\}$"
   ]
  },
  {
   "cell_type": "markdown",
   "metadata": {},
   "source": [
    "   \n",
    "### 6.1 Datasets\n"
   ]
  },
  {
   "cell_type": "code",
   "execution_count": 3,
   "metadata": {},
   "outputs": [
    {
     "name": "stderr",
     "output_type": "stream",
     "text": [
      "2019-02-08 22:51:02,653 : INFO : 'pattern' package not found; tag filters are not available for English\n"
     ]
    }
   ],
   "source": [
    "from common import ClassificationResult\n",
    "\n",
    "dataset_names = []\n",
    "results = dict()\n",
    "\n",
    "\n",
    "def load_results(name, dataset_loader):\n",
    "    \"\"\"Loads classification results for a given dataset.\n",
    "    \n",
    "    Parameters\n",
    "    ----------\n",
    "    name : str\n",
    "        The name of a dataset.\n",
    "    dataset_loader : callable\n",
    "        Loads training, validation, and test sets from the dataset.\n",
    "    \"\"\"\n",
    "\n",
    "    dataset_names.append(name)\n",
    "    results[name] = dict()\n",
    "    datasets = None\n",
    "    for configuration in configurations:\n",
    "        basename = '{}-{}'.format(name, '-'.join(map(str, configuration)))\n",
    "        try:\n",
    "            results[name][configuration] = ClassificationResult.from_file(basename)\n",
    "        except IOError:\n",
    "            if datasets is None:\n",
    "                datasets = dataset_loader()\n",
    "            train, validation, test = datasets\n",
    "            result = train.classify(validation, test, *configuration)\n",
    "            result.to_file(basename)\n",
    "            results[name][configuration] = result"
   ]
  },
  {
   "cell_type": "markdown",
   "metadata": {},
   "source": [
    "For classification, we use the following datasets:"
   ]
  },
  {
   "cell_type": "markdown",
   "metadata": {},
   "source": [
    "\n",
    "- [BBC] (2005, 864K, 2.23k documents, *free*)\n",
    "\n",
    " [BBC]: http://mlg.ucd.ie/datasets/bbc.html (Insight - BBC Datasets)"
   ]
  },
  {
   "cell_type": "code",
   "execution_count": 4,
   "metadata": {},
   "outputs": [
    {
     "name": "stderr",
     "output_type": "stream",
     "text": [
      "2019-02-08 22:51:02,889 : INFO : Loading a classification result from file results/classification-bbc-random-random-random-random.pkl.xz.\n",
      "2019-02-08 22:51:02,891 : INFO : Loading a classification result from file results/classification-bbc-vsm-bm25-inner_product-32.pkl.xz.\n",
      "2019-02-08 22:51:02,892 : INFO : Loading a classification result from file results/classification-bbc-vsm-tfidf-inner_product-32.pkl.xz.\n",
      "2019-02-08 22:51:02,893 : INFO : Loading a classification result from file results/classification-bbc-vsm-bow-inner_product-32.pkl.xz.\n",
      "2019-02-08 22:51:02,894 : INFO : Loading a classification result from file results/classification-bbc-lsi-tfidf-inner_product-32.pkl.xz.\n",
      "2019-02-08 22:51:02,895 : INFO : Loading a classification result from file results/classification-bbc-dense_soft_vsm-binary-inner_product-32.pkl.xz.\n",
      "2019-02-08 22:51:02,901 : INFO : Loading a classification result from file results/classification-bbc-dense_soft_vsm-binary-inner_product-1.pkl.xz.\n",
      "2019-02-08 22:51:02,902 : INFO : Loading a classification result from file results/classification-bbc-dense_soft_vsm-bow-inner_product-32.pkl.xz.\n",
      "2019-02-08 22:51:02,903 : INFO : Loading a classification result from file results/classification-bbc-dense_soft_vsm-bow-inner_product-1.pkl.xz.\n",
      "2019-02-08 22:51:02,904 : INFO : Loading a classification result from file results/classification-bbc-dense_soft_vsm-tfidf-inner_product-32.pkl.xz.\n",
      "2019-02-08 22:51:02,905 : INFO : Loading a classification result from file results/classification-bbc-dense_soft_vsm-tfidf-inner_product-1.pkl.xz.\n"
     ]
    }
   ],
   "source": [
    "from common import load_bbc\n",
    "\n",
    "load_results('bbc', load_bbc)  # Not yet computed."
   ]
  },
  {
   "cell_type": "markdown",
   "metadata": {},
   "source": [
    "\n",
    "- [BBCSport][BBC] (2005, 255K, 737 documents subsampled to 517, *free*)\n",
    "\n",
    " [BBC]: http://mlg.ucd.ie/datasets/bbc.html (Insight - BBC Datasets)"
   ]
  },
  {
   "cell_type": "code",
   "execution_count": 5,
   "metadata": {},
   "outputs": [
    {
     "name": "stderr",
     "output_type": "stream",
     "text": [
      "2019-02-08 22:51:02,994 : INFO : Loading a classification result from file results/classification-bbcsport-random-random-random-random.pkl.xz.\n",
      "2019-02-08 22:51:02,998 : INFO : Loading a classification result from file results/classification-bbcsport-vsm-bm25-inner_product-32.pkl.xz.\n",
      "2019-02-08 22:51:03,000 : INFO : Loading a classification result from file results/classification-bbcsport-vsm-tfidf-inner_product-32.pkl.xz.\n",
      "2019-02-08 22:51:03,005 : INFO : Loading a classification result from file results/classification-bbcsport-vsm-bow-inner_product-32.pkl.xz.\n",
      "2019-02-08 22:51:03,008 : INFO : Loading a classification result from file results/classification-bbcsport-lsi-tfidf-inner_product-32.pkl.xz.\n",
      "2019-02-08 22:51:03,011 : INFO : Loading a classification result from file results/classification-bbcsport-dense_soft_vsm-binary-inner_product-32.pkl.xz.\n",
      "2019-02-08 22:51:03,014 : INFO : Loading a classification result from file results/classification-bbcsport-dense_soft_vsm-binary-inner_product-1.pkl.xz.\n",
      "2019-02-08 22:51:03,017 : INFO : Loading a classification result from file results/classification-bbcsport-dense_soft_vsm-bow-inner_product-32.pkl.xz.\n",
      "2019-02-08 22:51:03,019 : INFO : Loading a classification result from file results/classification-bbcsport-dense_soft_vsm-bow-inner_product-1.pkl.xz.\n",
      "2019-02-08 22:51:03,023 : INFO : Loading a classification result from file results/classification-bbcsport-dense_soft_vsm-tfidf-inner_product-32.pkl.xz.\n",
      "2019-02-08 22:51:03,026 : INFO : Loading a classification result from file results/classification-bbcsport-dense_soft_vsm-tfidf-inner_product-1.pkl.xz.\n"
     ]
    }
   ],
   "source": [
    "from common import load_bbcsport\n",
    "\n",
    "load_results('bbcsport', load_bbcsport)  # Not yet computed."
   ]
  },
  {
   "cell_type": "markdown",
   "metadata": {},
   "source": [
    "- [TWITTER][] (2011, 160K, 6.4k documents subsampled to 2,176, *free*)\n",
    "\n",
    " [TWITTER]: https://web.archive.org/web/20180328044709/www.sananalytics.com/lab/twitter-sentiment/ (Sanders Analytics - Twitter Sentiment Corpus)"
   ]
  },
  {
   "cell_type": "code",
   "execution_count": 6,
   "metadata": {},
   "outputs": [
    {
     "name": "stderr",
     "output_type": "stream",
     "text": [
      "2019-02-08 22:51:03,045 : INFO : Loading a classification result from file results/classification-twitter-random-random-random-random.pkl.xz.\n",
      "2019-02-08 22:51:03,048 : INFO : Loading a classification result from file results/classification-twitter-vsm-bm25-inner_product-32.pkl.xz.\n",
      "2019-02-08 22:51:03,050 : INFO : Loading a classification result from file results/classification-twitter-vsm-tfidf-inner_product-32.pkl.xz.\n",
      "2019-02-08 22:51:03,052 : INFO : Loading a classification result from file results/classification-twitter-vsm-bow-inner_product-32.pkl.xz.\n",
      "2019-02-08 22:51:03,054 : INFO : Loading a classification result from file results/classification-twitter-lsi-tfidf-inner_product-32.pkl.xz.\n",
      "2019-02-08 22:51:03,055 : INFO : Loading a classification result from file results/classification-twitter-dense_soft_vsm-binary-inner_product-32.pkl.xz.\n",
      "2019-02-08 22:51:03,056 : INFO : Loading a classification result from file results/classification-twitter-dense_soft_vsm-binary-inner_product-1.pkl.xz.\n",
      "2019-02-08 22:51:03,058 : INFO : Loading a classification result from file results/classification-twitter-dense_soft_vsm-bow-inner_product-32.pkl.xz.\n",
      "2019-02-08 22:51:03,059 : INFO : Loading a classification result from file results/classification-twitter-dense_soft_vsm-bow-inner_product-1.pkl.xz.\n",
      "2019-02-08 22:51:03,067 : INFO : Loading a classification result from file results/classification-twitter-dense_soft_vsm-tfidf-inner_product-32.pkl.xz.\n",
      "2019-02-08 22:51:03,070 : INFO : Loading a classification result from file results/classification-twitter-dense_soft_vsm-tfidf-inner_product-1.pkl.xz.\n"
     ]
    }
   ],
   "source": [
    "from common import load_twitter\n",
    "\n",
    "load_results('twitter', load_twitter)  # Not yet computed."
   ]
  },
  {
   "cell_type": "markdown",
   "metadata": {},
   "source": [
    "\n",
    "- [OHSUMED][] (1994, 24M, 50.22k documents subsampled to 3,999, *free*)\n",
    "\n",
    " [OHSUMED]: http://disi.unitn.it/moschitti/corpora.htm (Donwloadable Corpora)\n"
   ]
  },
  {
   "cell_type": "code",
   "execution_count": 7,
   "metadata": {},
   "outputs": [
    {
     "name": "stderr",
     "output_type": "stream",
     "text": [
      "2019-02-08 22:51:03,111 : INFO : Loading a classification result from file results/classification-ohsumed-random-random-random-random.pkl.xz.\n",
      "2019-02-08 22:51:03,112 : INFO : Loading a classification result from file results/classification-ohsumed-vsm-bm25-inner_product-32.pkl.xz.\n",
      "2019-02-08 22:51:03,114 : INFO : Loading a classification result from file results/classification-ohsumed-vsm-tfidf-inner_product-32.pkl.xz.\n",
      "2019-02-08 22:51:03,116 : INFO : Loading a classification result from file results/classification-ohsumed-vsm-bow-inner_product-32.pkl.xz.\n",
      "2019-02-08 22:51:03,117 : INFO : Loading a classification result from file results/classification-ohsumed-lsi-tfidf-inner_product-32.pkl.xz.\n",
      "2019-02-08 22:51:03,118 : INFO : Loading a classification result from file results/classification-ohsumed-dense_soft_vsm-binary-inner_product-32.pkl.xz.\n",
      "2019-02-08 22:51:03,119 : INFO : Loading a classification result from file results/classification-ohsumed-dense_soft_vsm-binary-inner_product-1.pkl.xz.\n",
      "2019-02-08 22:51:03,127 : INFO : Loading a classification result from file results/classification-ohsumed-dense_soft_vsm-bow-inner_product-32.pkl.xz.\n",
      "2019-02-08 22:51:03,128 : INFO : Loading a classification result from file results/classification-ohsumed-dense_soft_vsm-bow-inner_product-1.pkl.xz.\n",
      "2019-02-08 22:51:03,130 : INFO : Loading a classification result from file results/classification-ohsumed-dense_soft_vsm-tfidf-inner_product-32.pkl.xz.\n",
      "2019-02-08 22:51:03,131 : INFO : Loading a classification result from file results/classification-ohsumed-dense_soft_vsm-tfidf-inner_product-1.pkl.xz.\n"
     ]
    }
   ],
   "source": [
    "from common import load_ohsumed\n",
    "\n",
    "load_results('ohsumed', load_ohsumed)  # Not yet computed."
   ]
  },
  {
   "cell_type": "markdown",
   "metadata": {},
   "source": [
    "\n",
    "- [Reuters-21578][] (1987, 8.2M, 215.78k documents subsampled to 5,485, *free*)\n",
    "\n",
    " [Reuters-21578]: http://www.daviddlewis.com/resources/testcollections/reuters21578/ (Reuters-21578 Text Categorization Test Collection)"
   ]
  },
  {
   "cell_type": "code",
   "execution_count": 8,
   "metadata": {},
   "outputs": [
    {
     "name": "stderr",
     "output_type": "stream",
     "text": [
      "2019-02-08 22:51:03,293 : INFO : Loading a classification result from file results/classification-reuters-random-random-random-random.pkl.xz.\n",
      "2019-02-08 22:51:03,316 : INFO : Loading a classification result from file results/classification-reuters-vsm-bm25-inner_product-32.pkl.xz.\n",
      "2019-02-08 22:51:03,320 : INFO : Loading a classification result from file results/classification-reuters-vsm-tfidf-inner_product-32.pkl.xz.\n",
      "2019-02-08 22:51:03,326 : INFO : Loading a classification result from file results/classification-reuters-vsm-bow-inner_product-32.pkl.xz.\n",
      "2019-02-08 22:51:03,345 : INFO : Loading a classification result from file results/classification-reuters-lsi-tfidf-inner_product-32.pkl.xz.\n",
      "2019-02-08 22:51:03,349 : INFO : Loading a classification result from file results/classification-reuters-dense_soft_vsm-binary-inner_product-32.pkl.xz.\n",
      "2019-02-08 22:51:03,382 : INFO : Loading a classification result from file results/classification-reuters-dense_soft_vsm-binary-inner_product-1.pkl.xz.\n",
      "2019-02-08 22:51:03,388 : INFO : Loading a classification result from file results/classification-reuters-dense_soft_vsm-bow-inner_product-32.pkl.xz.\n",
      "2019-02-08 22:51:03,484 : INFO : Loading a classification result from file results/classification-reuters-dense_soft_vsm-bow-inner_product-1.pkl.xz.\n",
      "2019-02-08 22:51:03,603 : INFO : Loading a classification result from file results/classification-reuters-dense_soft_vsm-tfidf-inner_product-32.pkl.xz.\n",
      "2019-02-08 22:51:03,611 : INFO : Loading a classification result from file results/classification-reuters-dense_soft_vsm-tfidf-inner_product-1.pkl.xz.\n"
     ]
    }
   ],
   "source": [
    "from common import load_reuters\n",
    "\n",
    "load_results('reuters', load_reuters)  # Not yet computed."
   ]
  },
  {
   "cell_type": "markdown",
   "metadata": {},
   "source": [
    "\n",
    "- [AMAZON][] (2015, 20G, 142.8m documents subsampled to 5,600, *free*)\n",
    "\n",
    " [AMAZON]: http://jmcauley.ucsd.edu/data/amazon/ (Amazon review data)\n"
   ]
  },
  {
   "cell_type": "code",
   "execution_count": 9,
   "metadata": {},
   "outputs": [
    {
     "name": "stderr",
     "output_type": "stream",
     "text": [
      "2019-02-08 22:51:03,629 : INFO : Loading a classification result from file results/classification-amazon-random-random-random-random.pkl.xz.\n",
      "2019-02-08 22:51:03,634 : INFO : Loading a classification result from file results/classification-amazon-vsm-bm25-inner_product-32.pkl.xz.\n",
      "2019-02-08 22:51:03,637 : INFO : Loading a classification result from file results/classification-amazon-vsm-tfidf-inner_product-32.pkl.xz.\n",
      "2019-02-08 22:51:03,640 : INFO : Loading a classification result from file results/classification-amazon-vsm-bow-inner_product-32.pkl.xz.\n",
      "2019-02-08 22:51:03,644 : INFO : Loading a classification result from file results/classification-amazon-lsi-tfidf-inner_product-32.pkl.xz.\n",
      "2019-02-08 22:51:03,648 : INFO : Loading a classification result from file results/classification-amazon-dense_soft_vsm-binary-inner_product-32.pkl.xz.\n",
      "2019-02-08 22:51:03,651 : INFO : Loading a classification result from file results/classification-amazon-dense_soft_vsm-binary-inner_product-1.pkl.xz.\n",
      "2019-02-08 22:51:03,654 : INFO : Loading a classification result from file results/classification-amazon-dense_soft_vsm-bow-inner_product-32.pkl.xz.\n",
      "2019-02-08 22:51:03,657 : INFO : Loading a classification result from file results/classification-amazon-dense_soft_vsm-bow-inner_product-1.pkl.xz.\n",
      "2019-02-08 22:51:03,661 : INFO : Loading a classification result from file results/classification-amazon-dense_soft_vsm-tfidf-inner_product-32.pkl.xz.\n",
      "2019-02-08 22:51:03,667 : INFO : Loading a classification result from file results/classification-amazon-dense_soft_vsm-tfidf-inner_product-1.pkl.xz.\n"
     ]
    }
   ],
   "source": [
    "from common import load_amazon\n",
    "\n",
    "load_results('amazon', load_amazon)  # Not yet computed."
   ]
  },
  {
   "cell_type": "markdown",
   "metadata": {},
   "source": [
    "\n",
    "- [20 Newsgroups][] (1995, 14M, 18.83k documents subsampled to 11,293, *free*)\n",
    "\n",
    " [20 Newsgroups]: http://qwone.com/~jason/20Newsgroups/ (Home Page for 20 Newsgroups Data Set)"
   ]
  },
  {
   "cell_type": "code",
   "execution_count": 10,
   "metadata": {},
   "outputs": [
    {
     "name": "stderr",
     "output_type": "stream",
     "text": [
      "2019-02-08 22:51:03,720 : INFO : Loading a classification result from file results/classification-20news-random-random-random-random.pkl.xz.\n",
      "2019-02-08 22:51:03,722 : INFO : Loading a classification result from file results/classification-20news-vsm-bm25-inner_product-32.pkl.xz.\n",
      "2019-02-08 22:51:03,725 : INFO : Loading a classification result from file results/classification-20news-vsm-tfidf-inner_product-32.pkl.xz.\n",
      "2019-02-08 22:51:03,727 : INFO : Loading a classification result from file results/classification-20news-vsm-bow-inner_product-32.pkl.xz.\n",
      "2019-02-08 22:51:03,729 : INFO : Loading a classification result from file results/classification-20news-lsi-tfidf-inner_product-32.pkl.xz.\n",
      "2019-02-08 22:51:03,731 : INFO : Loading a classification result from file results/classification-20news-dense_soft_vsm-binary-inner_product-32.pkl.xz.\n",
      "2019-02-08 22:51:03,735 : INFO : Loading a classification result from file results/classification-20news-dense_soft_vsm-binary-inner_product-1.pkl.xz.\n",
      "2019-02-08 22:51:03,737 : INFO : Loading a classification result from file results/classification-20news-dense_soft_vsm-bow-inner_product-32.pkl.xz.\n",
      "2019-02-08 22:51:03,740 : INFO : Loading a classification result from file results/classification-20news-dense_soft_vsm-bow-inner_product-1.pkl.xz.\n",
      "2019-02-08 22:51:03,742 : INFO : Loading a classification result from file results/classification-20news-dense_soft_vsm-tfidf-inner_product-32.pkl.xz.\n",
      "2019-02-08 22:51:03,743 : INFO : Loading a classification result from file results/classification-20news-dense_soft_vsm-tfidf-inner_product-1.pkl.xz.\n"
     ]
    }
   ],
   "source": [
    "from common import load_20news\n",
    "\n",
    "load_results('20news', load_20news)"
   ]
  },
  {
   "cell_type": "markdown",
   "metadata": {},
   "source": [
    "\n",
    "### 6.3 Classification\n",
    "\n",
    "We compare the individual document representations, term weighing schemes, and similarities using $k$NN on standard datasets. In addition to the above parameters, we also tune $k\\in\\{1,2,\\ldots,19\\}$.\n",
    "\n",
    "## 7. Results\n",
    " \n",
    "Useful links:\n",
    "\n",
    "- [Monochrome (Black & white) plots in matplotlib](http://olsgaard.dk/monochrome-black-white-plots-in-matplotlib.html)\n",
    "- [Add confidence interval on barplot](https://python-graph-gallery.com/8-add-confidence-interval-on-barplot/)"
   ]
  },
  {
   "cell_type": "code",
   "execution_count": 11,
   "metadata": {},
   "outputs": [
    {
     "data": {
      "image/png": "[encoded data removed]",
      "text/plain": [
       "<Figure size 1512x720 with 1 Axes>"
      ]
     },
     "metadata": {},
     "output_type": "display_data"
    }
   ],
   "source": [
    "%matplotlib inline\n",
    "\n",
    "from itertools import chain, cycle\n",
    "\n",
    "import numpy as np\n",
    "import matplotlib.pyplot as plt\n",
    "from matplotlib import rcParams\n",
    "\n",
    "\n",
    "def flip(items, ncol):\n",
    "    return chain(*[items[i::ncol] for i in range(ncol)])\n",
    "\n",
    "num_bars = len(configurations)\n",
    "num_datasets = len(dataset_names)\n",
    "bar_width = 1.0 / (num_bars + 2)\n",
    "bar_ys, bar_yerrs_lower, bar_yerrs_upper = list(zip(*map(lambda x: zip(*x), (\n",
    "    (\n",
    "        (\n",
    "            100 * (1.0 - results[name][configuration].accuracy()[0]),\n",
    "            100 * (results[name][configuration].accuracy()[2] - results[name][configuration].accuracy()[0]),\n",
    "            100 * (results[name][configuration].accuracy()[0] - results[name][configuration].accuracy()[1]),\n",
    "        )\n",
    "        for name in dataset_names\n",
    "    )\n",
    "    for configuration in configurations\n",
    "))))\n",
    "bar_xs = [\n",
    "    np.arange(num_datasets) + bar_width * (bar_number - 0.5 * (num_bars - 1))\n",
    "    for bar_number in range(num_bars)\n",
    "]\n",
    "hatches = (' ', '///', '...', 'xxx', '\\\\\\\\\\\\', '**', 'xx', '.', '*', 'o', 'O')\n",
    "\n",
    "# rcParams['font.size'] = 9\n",
    "# rcParams['font.family'] = 'serif'\n",
    "# rcParams['font.serif'] = ['Times New Roman', 'TeX Gyre Termes']\n",
    "plt.style.use('fivethirtyeight')\n",
    "\n",
    "# fig = plt.figure(figsize=(7, 4))\n",
    "fig = plt.figure(figsize=(21, 10))\n",
    "ax = fig.add_subplot(111)\n",
    "for x, y, yerr_lower, yerr_upper, label, hatch in zip(\n",
    "            bar_xs,\n",
    "            bar_ys,\n",
    "            bar_yerrs_lower,\n",
    "            bar_yerrs_upper,\n",
    "            map(lambda x: configuration_names[x], configurations),\n",
    "            cycle(hatches),\n",
    "        ):\n",
    "    yerr = (yerr_lower, yerr_upper)\n",
    "    # plt.bar(x, y, width=bar_width, edgecolor='black', color='w', yerr=yerr, hatch=hatch, capsize=0, label=label)\n",
    "    plt.bar(x, y, width=bar_width, edgecolor='black', yerr=yerr, capsize=0, label=label)\n",
    "\n",
    "handles, labels = ax.get_legend_handles_labels()\n",
    "ncol = 3\n",
    "plt.legend(flip(handles, ncol), flip(labels, ncol), loc='best', ncol=ncol)\n",
    "\n",
    "plt.xticks(bar_xs[num_bars // 2] - 0.5 * bar_width, dataset_names)\n",
    "plt.minorticks_on()\n",
    "plt.ylabel('test error %')\n",
    "plt.xlim((-0.5 * (num_bars + 2) * bar_width, num_datasets - 1 + 0.5 * (num_bars + 2) * bar_width))\n",
    "plt.grid(axis='y', which='major', color='k', alpha=0.5)\n",
    "plt.grid(axis='y', which='minor', color='k', alpha=0.25)\n",
    "plt.tight_layout()\n",
    "plt.savefig('classification.pdf')\n",
    "plt.show()"
   ]
  }
 ],
 "metadata": {
  "kernelspec": {
   "display_name": "Python 3",
   "language": "python",
   "name": "python3"
  },
  "language_info": {
   "codemirror_mode": {
    "name": "ipython",
    "version": 3
   },
   "file_extension": ".py",
   "mimetype": "text/x-python",
   "name": "python",
   "nbconvert_exporter": "python",
   "pygments_lexer": "ipython3",
   "version": "3.5.3"
  }
 },
 "nbformat": 4,
 "nbformat_minor": 2
}
